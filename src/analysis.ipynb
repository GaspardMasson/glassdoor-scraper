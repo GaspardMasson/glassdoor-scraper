{
 "cells": [
  {
   "attachments": {},
   "cell_type": "markdown",
   "metadata": {},
   "source": [
    "### Libraries"
   ]
  },
  {
   "cell_type": "code",
   "execution_count": 174,
   "metadata": {},
   "outputs": [],
   "source": [
    "import pandas as pd"
   ]
  },
  {
   "attachments": {},
   "cell_type": "markdown",
   "metadata": {},
   "source": [
    "### Datasets"
   ]
  },
  {
   "cell_type": "code",
   "execution_count": 175,
   "metadata": {},
   "outputs": [],
   "source": [
    "data_DA = pd.read_csv('datas/GLASSDOOR_DA_LASTMONTH.csv', encoding_errors='ignore')\n",
    "data_DE = pd.read_csv('datas/GLASSDOOR_DE_LASTMONTH.csv', encoding_errors='ignore')\n",
    "data_DS = pd.read_csv('datas/GLASSDOOR_DS_LASTMONTH.csv', encoding_errors='ignore')"
   ]
  },
  {
   "cell_type": "code",
   "execution_count": 176,
   "metadata": {},
   "outputs": [],
   "source": [
    "#Drop the first row\n",
    "data_DA = data_DA.drop(data_DA.index[0])\n",
    "data_DS = data_DS.drop(data_DS.index[0])"
   ]
  },
  {
   "cell_type": "code",
   "execution_count": 177,
   "metadata": {},
   "outputs": [
    {
     "name": "stderr",
     "output_type": "stream",
     "text": [
      "C:\\Users\\gaspa\\AppData\\Local\\Temp\\ipykernel_21652\\648892927.py:2: FutureWarning: The frame.append method is deprecated and will be removed from pandas in a future version. Use pandas.concat instead.\n",
      "  data = data_DA.append(data_DE, ignore_index=True)\n",
      "C:\\Users\\gaspa\\AppData\\Local\\Temp\\ipykernel_21652\\648892927.py:3: FutureWarning: The frame.append method is deprecated and will be removed from pandas in a future version. Use pandas.concat instead.\n",
      "  data = data.append(data_DS, ignore_index=True)\n"
     ]
    },
    {
     "data": {
      "text/plain": [
       "(2366, 10)"
      ]
     },
     "execution_count": 177,
     "metadata": {},
     "output_type": "execute_result"
    }
   ],
   "source": [
    "# append the dataframes\n",
    "data = data_DA.append(data_DE, ignore_index=True)\n",
    "data = data.append(data_DS, ignore_index=True)\n",
    "\n",
    "data.shape"
   ]
  },
  {
   "cell_type": "code",
   "execution_count": 178,
   "metadata": {},
   "outputs": [
    {
     "data": {
      "text/html": [
       "<div>\n",
       "<style scoped>\n",
       "    .dataframe tbody tr th:only-of-type {\n",
       "        vertical-align: middle;\n",
       "    }\n",
       "\n",
       "    .dataframe tbody tr th {\n",
       "        vertical-align: top;\n",
       "    }\n",
       "\n",
       "    .dataframe thead th {\n",
       "        text-align: right;\n",
       "    }\n",
       "</style>\n",
       "<table border=\"1\" class=\"dataframe\">\n",
       "  <thead>\n",
       "    <tr style=\"text-align: right;\">\n",
       "      <th></th>\n",
       "      <th>companyName</th>\n",
       "      <th>company_starRating</th>\n",
       "      <th>company_offeredRole</th>\n",
       "      <th>company_roleLocation</th>\n",
       "      <th>headquarters</th>\n",
       "      <th>size</th>\n",
       "      <th>type</th>\n",
       "      <th>revenue</th>\n",
       "      <th>listing_jobDesc</th>\n",
       "      <th>requested_url</th>\n",
       "    </tr>\n",
       "  </thead>\n",
       "  <tbody>\n",
       "    <tr>\n",
       "      <th>0</th>\n",
       "      <td>Caisse d'Epargne Hauts de France</td>\n",
       "      <td>3.9</td>\n",
       "      <td>DATA ANALYST (H/F)</td>\n",
       "      <td>Lille</td>\n",
       "      <td>Paris, France</td>\n",
       "      <td>10000+ Employees</td>\n",
       "      <td>Company - Public</td>\n",
       "      <td>Unknown / Non-Applicable</td>\n",
       "      <td>Une rmunration comptitive et quitable, assorti...</td>\n",
       "      <td>https://www.glassdoor.com/partner/jobListing.h...</td>\n",
       "    </tr>\n",
       "    <tr>\n",
       "      <th>1</th>\n",
       "      <td>Natixis</td>\n",
       "      <td>4.1</td>\n",
       "      <td>Business Analyst Junior - Third Parties - IT CIB</td>\n",
       "      <td>Charenton-le-Pont</td>\n",
       "      <td>Paris, France</td>\n",
       "      <td>10000+ Employees</td>\n",
       "      <td>Company - Private</td>\n",
       "      <td>$5 to $10 billion (USD)</td>\n",
       "      <td>\\nRecueillir et traduire les expression des be...</td>\n",
       "      <td>https://www.glassdoor.com/partner/jobListing.h...</td>\n",
       "    </tr>\n",
       "    <tr>\n",
       "      <th>2</th>\n",
       "      <td>Sopra Steria</td>\n",
       "      <td>3.8</td>\n",
       "      <td>Business Analyst - Banque &amp; Finance - Brest</td>\n",
       "      <td>Brest</td>\n",
       "      <td>Annecy, France</td>\n",
       "      <td>10000+ Employees</td>\n",
       "      <td>Company - Public</td>\n",
       "      <td>$1 to $5 billion (USD)</td>\n",
       "      <td>Dfinition des besoins utilisateurs ou  User St...</td>\n",
       "      <td>https://www.glassdoor.com/partner/jobListing.h...</td>\n",
       "    </tr>\n",
       "    <tr>\n",
       "      <th>3</th>\n",
       "      <td>HURRYMAN</td>\n",
       "      <td>4.8</td>\n",
       "      <td>Consultant Senior / Manager : Data Analyst (H/F)</td>\n",
       "      <td>Paris</td>\n",
       "      <td>Paris, France</td>\n",
       "      <td>1 to 50 Employees</td>\n",
       "      <td>Company - Private</td>\n",
       "      <td>Unknown / Non-Applicable</td>\n",
       "      <td>uvrant parmi les acteurs les plus prestigieux ...</td>\n",
       "      <td>https://www.glassdoor.com/partner/jobListing.h...</td>\n",
       "    </tr>\n",
       "    <tr>\n",
       "      <th>4</th>\n",
       "      <td>Editions ENI</td>\n",
       "      <td>4.0</td>\n",
       "      <td>Data Analyst H/F</td>\n",
       "      <td>Saint-Herblain</td>\n",
       "      <td>Saint-Herblain, France</td>\n",
       "      <td>201 to 500 Employees</td>\n",
       "      <td>Unknown</td>\n",
       "      <td>$25 to $100 million (USD)</td>\n",
       "      <td>Echanges et coordination avec les quipes dcisi...</td>\n",
       "      <td>https://www.glassdoor.com/partner/jobListing.h...</td>\n",
       "    </tr>\n",
       "  </tbody>\n",
       "</table>\n",
       "</div>"
      ],
      "text/plain": [
       "                        companyName company_starRating  \\\n",
       "0  Caisse d'Epargne Hauts de France                3.9   \n",
       "1                           Natixis                4.1   \n",
       "2                      Sopra Steria                3.8   \n",
       "3                          HURRYMAN                4.8   \n",
       "4                      Editions ENI                4.0   \n",
       "\n",
       "                                company_offeredRole company_roleLocation  \\\n",
       "0                                DATA ANALYST (H/F)                Lille   \n",
       "1  Business Analyst Junior - Third Parties - IT CIB    Charenton-le-Pont   \n",
       "2       Business Analyst - Banque & Finance - Brest                Brest   \n",
       "3  Consultant Senior / Manager : Data Analyst (H/F)                Paris   \n",
       "4                                  Data Analyst H/F       Saint-Herblain   \n",
       "\n",
       "             headquarters                  size               type  \\\n",
       "0           Paris, France      10000+ Employees   Company - Public   \n",
       "1           Paris, France      10000+ Employees  Company - Private   \n",
       "2          Annecy, France      10000+ Employees   Company - Public   \n",
       "3           Paris, France     1 to 50 Employees  Company - Private   \n",
       "4  Saint-Herblain, France  201 to 500 Employees            Unknown   \n",
       "\n",
       "                     revenue  \\\n",
       "0   Unknown / Non-Applicable   \n",
       "1    $5 to $10 billion (USD)   \n",
       "2     $1 to $5 billion (USD)   \n",
       "3   Unknown / Non-Applicable   \n",
       "4  $25 to $100 million (USD)   \n",
       "\n",
       "                                     listing_jobDesc  \\\n",
       "0  Une rmunration comptitive et quitable, assorti...   \n",
       "1  \\nRecueillir et traduire les expression des be...   \n",
       "2  Dfinition des besoins utilisateurs ou  User St...   \n",
       "3  uvrant parmi les acteurs les plus prestigieux ...   \n",
       "4  Echanges et coordination avec les quipes dcisi...   \n",
       "\n",
       "                                       requested_url  \n",
       "0  https://www.glassdoor.com/partner/jobListing.h...  \n",
       "1  https://www.glassdoor.com/partner/jobListing.h...  \n",
       "2  https://www.glassdoor.com/partner/jobListing.h...  \n",
       "3  https://www.glassdoor.com/partner/jobListing.h...  \n",
       "4  https://www.glassdoor.com/partner/jobListing.h...  "
      ]
     },
     "execution_count": 178,
     "metadata": {},
     "output_type": "execute_result"
    }
   ],
   "source": [
    "data.head()"
   ]
  },
  {
   "cell_type": "code",
   "execution_count": 179,
   "metadata": {},
   "outputs": [],
   "source": [
    "#assigner au hasard une valeur a data[\"type_poste\"] entre Data Analyst, Data Scientist et Data Engineer\n",
    "import random\n",
    "import numpy as np\n",
    "\n",
    "def random_poste():\n",
    "    return random.choice([\"Data Analyst\", \"Data Scientist\", \"Data Engineer\"])\n",
    "\n",
    "data[\"type_poste\"] = np.vectorize(random_poste)()"
   ]
  },
  {
   "cell_type": "code",
   "execution_count": 180,
   "metadata": {},
   "outputs": [
    {
     "name": "stdout",
     "output_type": "stream",
     "text": [
      "La distance entre Beuzeville-la-bastille et Auray est d'environ 222.35 kilomètres.\n"
     ]
    }
   ],
   "source": [
    "from geopy.geocoders import Nominatim\n",
    "from geopy.distance import geodesic\n",
    "\n",
    "def get_coordinates(city):\n",
    "    geolocator = Nominatim(user_agent=\"distance_calculator\")\n",
    "    location = geolocator.geocode(city)\n",
    "    if location is None:\n",
    "        return None\n",
    "    return location.latitude, location.longitude\n",
    "\n",
    "def calculate_distance(city1, city2):\n",
    "    coordinates1 = get_coordinates(city1)\n",
    "    coordinates2 = get_coordinates(city2)\n",
    "    \n",
    "    if coordinates1 is None or coordinates2 is None:\n",
    "        return \"Impossible de trouver les coordonnées de l'une des villes.\"\n",
    "    \n",
    "    distance = geodesic(coordinates1, coordinates2).kilometers\n",
    "    return distance\n",
    "\n",
    "# Exemple d'utilisation\n",
    "city1 = \"Beuzeville-la-bastille\"\n",
    "city2 = \"Auray\"\n",
    "\n",
    "distance = calculate_distance(city1, city2)\n",
    "print(f\"La distance entre {city1} et {city2} est d'environ {distance:.2f} kilomètres.\")\n"
   ]
  },
  {
   "cell_type": "code",
   "execution_count": 181,
   "metadata": {},
   "outputs": [],
   "source": [
    "from haversine import haversine, Unit\n",
    "\n",
    "def calculate_distance(city1, city2):\n",
    "    coordinates1 = get_coordinates(city1)\n",
    "    coordinates2 = get_coordinates(city2)\n",
    "    \n",
    "    if coordinates1 is None or coordinates2 is None:\n",
    "        return 100000\n",
    "    \n",
    "    distance = haversine(coordinates1, coordinates2, unit=Unit.KILOMETERS)\n",
    "    return distance\n"
   ]
  },
  {
   "cell_type": "code",
   "execution_count": 182,
   "metadata": {},
   "outputs": [],
   "source": [
    "# remove NA in company_offeredRole and company_roleLocation\n",
    "data = data.dropna(subset=['company_offeredRole', 'company_roleLocation'])"
   ]
  },
  {
   "cell_type": "code",
   "execution_count": 183,
   "metadata": {},
   "outputs": [],
   "source": [
    "#drop na\n",
    "data = data.dropna()"
   ]
  },
  {
   "cell_type": "code",
   "execution_count": 184,
   "metadata": {},
   "outputs": [
    {
     "data": {
      "text/plain": [
       "(2055, 11)"
      ]
     },
     "execution_count": 184,
     "metadata": {},
     "output_type": "execute_result"
    }
   ],
   "source": [
    "data.shape"
   ]
  },
  {
   "cell_type": "code",
   "execution_count": 185,
   "metadata": {},
   "outputs": [],
   "source": [
    "# fill les na par des unknown\n",
    "data = data.fillna(\"unknown\")"
   ]
  },
  {
   "cell_type": "code",
   "execution_count": 186,
   "metadata": {},
   "outputs": [
    {
     "data": {
      "text/plain": [
       "companyName             0\n",
       "company_starRating      0\n",
       "company_offeredRole     0\n",
       "company_roleLocation    0\n",
       "headquarters            0\n",
       "size                    0\n",
       "type                    0\n",
       "revenue                 0\n",
       "listing_jobDesc         0\n",
       "requested_url           0\n",
       "type_poste              0\n",
       "dtype: int64"
      ]
     },
     "execution_count": 186,
     "metadata": {},
     "output_type": "execute_result"
    }
   ],
   "source": [
    "data.isna().sum()"
   ]
  },
  {
   "cell_type": "code",
   "execution_count": 187,
   "metadata": {},
   "outputs": [
    {
     "data": {
      "text/plain": [
       "10000+ Employees           943\n",
       "1001 to 5000 Employees     270\n",
       "1 to 50 Employees          216\n",
       "201 to 500 Employees       196\n",
       "501 to 1000 Employees      126\n",
       "51 to 200 Employees        122\n",
       "Unknown                    104\n",
       "5001 to 10000 Employees     78\n",
       "Name: size, dtype: int64"
      ]
     },
     "execution_count": 187,
     "metadata": {},
     "output_type": "execute_result"
    }
   ],
   "source": [
    "data[\"size\"].value_counts()"
   ]
  },
  {
   "cell_type": "code",
   "execution_count": 188,
   "metadata": {},
   "outputs": [
    {
     "data": {
      "text/plain": [
       "(2055, 11)"
      ]
     },
     "execution_count": 188,
     "metadata": {},
     "output_type": "execute_result"
    }
   ],
   "source": [
    "data.shape"
   ]
  },
  {
   "cell_type": "code",
   "execution_count": 189,
   "metadata": {},
   "outputs": [
    {
     "data": {
      "text/plain": [
       "(2049, 11)"
      ]
     },
     "execution_count": 189,
     "metadata": {},
     "output_type": "execute_result"
    }
   ],
   "source": [
    "# Filter the dataset based on the specified criteria\n",
    "filtered_df = data[data.duplicated(subset=['company_roleLocation', 'company_offeredRole', 'companyName'], keep=False)]\n",
    "\n",
    "# Print the filtered dataset\n",
    "filtered_df.shape\n"
   ]
  },
  {
   "cell_type": "code",
   "execution_count": 190,
   "metadata": {},
   "outputs": [
    {
     "data": {
      "text/plain": [
       "Data Analyst H/F                                       171\n",
       "Data Ingnieur (H/F)                                     59\n",
       "Data Analyst dbutant(e) - Spotfire pour SISMAGE-CIG     49\n",
       "Data Miner / Data Analyst H/F                           49\n",
       "Data Analyst - Le Bouscat H/F                           49\n",
       "                                                      ... \n",
       "Alternant 12 mois  Data Analyst H/F                      1\n",
       "Stage ou alternance - Data Analyst Junior                1\n",
       "ALTERNANT - Data analyste                                1\n",
       "Data engineer BI (H/F)                                   1\n",
       "DATA ANALYST F/H                                         1\n",
       "Name: company_offeredRole, Length: 93, dtype: int64"
      ]
     },
     "execution_count": 190,
     "metadata": {},
     "output_type": "execute_result"
    }
   ],
   "source": [
    "data[\"company_offeredRole\"].value_counts()"
   ]
  },
  {
   "cell_type": "code",
   "execution_count": null,
   "metadata": {},
   "outputs": [],
   "source": [
    "data[\"help_drop\"] = data[\"company_offeredRole\"] + \" \" + data[\"company_roleLocation\"] + \" \" + data[\"companyName\"]"
   ]
  },
  {
   "cell_type": "code",
   "execution_count": 191,
   "metadata": {},
   "outputs": [],
   "source": [
    "# remove duplicates if company_roleLocation, company_offeredRole and companyName are the same\n",
    "data = data.drop_duplicates(subset=['help_drop'])"
   ]
  },
  {
   "cell_type": "code",
   "execution_count": 192,
   "metadata": {},
   "outputs": [
    {
     "data": {
      "text/plain": [
       "(101, 11)"
      ]
     },
     "execution_count": 192,
     "metadata": {},
     "output_type": "execute_result"
    }
   ],
   "source": [
    "data.shape"
   ]
  },
  {
   "cell_type": "code",
   "execution_count": 193,
   "metadata": {},
   "outputs": [
    {
     "name": "stderr",
     "output_type": "stream",
     "text": [
      "C:\\Users\\gaspa\\AppData\\Local\\Temp\\ipykernel_21652\\691987656.py:19: FutureWarning: The series.append method is deprecated and will be removed from pandas in a future version. Use pandas.concat instead.\n",
      "  X = vectorizer.fit_transform(job_desc.append(pd.Series(user_preferences)))\n"
     ]
    },
    {
     "data": {
      "text/html": [
       "<div>\n",
       "<style scoped>\n",
       "    .dataframe tbody tr th:only-of-type {\n",
       "        vertical-align: middle;\n",
       "    }\n",
       "\n",
       "    .dataframe tbody tr th {\n",
       "        vertical-align: top;\n",
       "    }\n",
       "\n",
       "    .dataframe thead th {\n",
       "        text-align: right;\n",
       "    }\n",
       "</style>\n",
       "<table border=\"1\" class=\"dataframe\">\n",
       "  <thead>\n",
       "    <tr style=\"text-align: right;\">\n",
       "      <th></th>\n",
       "      <th>company_offeredRole</th>\n",
       "      <th>companyName</th>\n",
       "      <th>company_roleLocation</th>\n",
       "      <th>distance_en_km</th>\n",
       "      <th>weighted_similarity_distance</th>\n",
       "    </tr>\n",
       "  </thead>\n",
       "  <tbody>\n",
       "    <tr>\n",
       "      <th>1641</th>\n",
       "      <td>Data Scientist (F/H)</td>\n",
       "      <td>Meritis</td>\n",
       "      <td>Paris</td>\n",
       "      <td>397.362195</td>\n",
       "      <td>0.793739</td>\n",
       "    </tr>\n",
       "    <tr>\n",
       "      <th>1774</th>\n",
       "      <td>Data Scientist H/F</td>\n",
       "      <td>ICM Institut du Cerveau</td>\n",
       "      <td>Paris</td>\n",
       "      <td>397.362195</td>\n",
       "      <td>0.793739</td>\n",
       "    </tr>\n",
       "    <tr>\n",
       "      <th>1643</th>\n",
       "      <td>DATA SCIENTIST H/F</td>\n",
       "      <td>Gan Assurances</td>\n",
       "      <td>Nanterre</td>\n",
       "      <td>407.873088</td>\n",
       "      <td>0.793718</td>\n",
       "    </tr>\n",
       "    <tr>\n",
       "      <th>1962</th>\n",
       "      <td>Alternance - Data Scientist H/F</td>\n",
       "      <td>Cramif</td>\n",
       "      <td>Paris</td>\n",
       "      <td>397.362195</td>\n",
       "      <td>0.728802</td>\n",
       "    </tr>\n",
       "    <tr>\n",
       "      <th>64</th>\n",
       "      <td>Data analyst junior - H/F</td>\n",
       "      <td>Damart</td>\n",
       "      <td>Roubaix</td>\n",
       "      <td>404.233617</td>\n",
       "      <td>0.634526</td>\n",
       "    </tr>\n",
       "  </tbody>\n",
       "</table>\n",
       "</div>"
      ],
      "text/plain": [
       "                  company_offeredRole              companyName  \\\n",
       "1641             Data Scientist (F/H)                  Meritis   \n",
       "1774               Data Scientist H/F  ICM Institut du Cerveau   \n",
       "1643               DATA SCIENTIST H/F           Gan Assurances   \n",
       "1962  Alternance - Data Scientist H/F                   Cramif   \n",
       "64          Data analyst junior - H/F                   Damart   \n",
       "\n",
       "     company_roleLocation  distance_en_km  weighted_similarity_distance  \n",
       "1641                Paris      397.362195                      0.793739  \n",
       "1774                Paris      397.362195                      0.793739  \n",
       "1643             Nanterre      407.873088                      0.793718  \n",
       "1962                Paris      397.362195                      0.728802  \n",
       "64                Roubaix      404.233617                      0.634526  "
      ]
     },
     "execution_count": 193,
     "metadata": {},
     "output_type": "execute_result"
    }
   ],
   "source": [
    "import pandas as pd\n",
    "from sklearn.metrics.pairwise import cosine_similarity\n",
    "from sklearn.feature_extraction.text import TfidfVectorizer\n",
    "from geopy.distance import geodesic\n",
    "\n",
    "df = data.copy()\n",
    "\n",
    "\n",
    "# Préférences de l'utilisateur\n",
    "ville_preferee = 'Strasbourg'\n",
    "type_entreprise_prefere = '501 to 1000 Employees'\n",
    "type_poste_desire = 'Data Scientist'\n",
    "\n",
    "\n",
    "# Calcul de la similarité cosinus\n",
    "vectorizer = TfidfVectorizer()\n",
    "job_desc = df['company_offeredRole'] + ' ' + df['size'] + ' ' + df['type_poste']\n",
    "user_preferences = ville_preferee + ' ' + type_entreprise_prefere + ' ' + type_poste_desire\n",
    "X = vectorizer.fit_transform(job_desc.append(pd.Series(user_preferences)))\n",
    "similarity_scores = cosine_similarity(X[:-1], X[-1])\n",
    "\n",
    "\n",
    "# Attribution des poids aux similarités et à la distance\n",
    "similarity_weight = 0.8\n",
    "distance_weight = 0.2\n",
    "\n",
    "# Création d'une nouvelle colonne pour stocker les scores de similarité\n",
    "df['similarity_score'] = similarity_scores.flatten()\n",
    "\n",
    "# Calcul de la similarité pondérée\n",
    "df['weighted_similarity'] = df['similarity_score'] * similarity_weight\n",
    "\n",
    "# trier selon la similarité et garder les 60 meilleurs résultats\n",
    "df = df.sort_values(by=['weighted_similarity'], ascending=False).head(60)\n",
    "\n",
    "\n",
    "# Calcul de la distance entre les villes\n",
    "df['distance_en_km'] = df.apply(lambda row: calculate_distance(row[\"company_roleLocation\"], ville_preferee), axis=1)\n",
    "\n",
    "# Normalisation de la distance\n",
    "max_distance = df['distance_en_km'].max()\n",
    "df['normalized_distance'] = 1 - (df['distance_en_km'] / max_distance)\n",
    "\n",
    "df['weighted_distance'] = df['normalized_distance'] * distance_weight\n",
    "df['weighted_similarity_distance'] = df['weighted_similarity'] + df['weighted_distance']\n",
    "\n",
    "# Tri des offres d'emploi par similarité pondérée et distance croissantes\n",
    "sorted_df = df.sort_values(by=['weighted_similarity_distance', 'distance_en_km'], ascending=[False, True])\n",
    "\n",
    "# Affichage des résultats\n",
    "top_results = sorted_df.head(5)  # Vous pouvez ajuster le nombre de résultats à afficher\n",
    "top_results[['company_offeredRole', 'companyName',\"company_roleLocation\", 'distance_en_km', 'weighted_similarity_distance']].head()\n"
   ]
  },
  {
   "cell_type": "code",
   "execution_count": 194,
   "metadata": {},
   "outputs": [
    {
     "name": "stderr",
     "output_type": "stream",
     "text": [
      "C:\\Users\\gaspa\\AppData\\Local\\Temp\\ipykernel_21652\\10550173.py:32: FutureWarning: The series.append method is deprecated and will be removed from pandas in a future version. Use pandas.concat instead.\n",
      "  X = vectorizer.fit_transform(job_desc.append(pd.Series(user_preferences)))\n"
     ]
    },
    {
     "data": {
      "text/html": [
       "<div>\n",
       "<style scoped>\n",
       "    .dataframe tbody tr th:only-of-type {\n",
       "        vertical-align: middle;\n",
       "    }\n",
       "\n",
       "    .dataframe tbody tr th {\n",
       "        vertical-align: top;\n",
       "    }\n",
       "\n",
       "    .dataframe thead th {\n",
       "        text-align: right;\n",
       "    }\n",
       "</style>\n",
       "<table border=\"1\" class=\"dataframe\">\n",
       "  <thead>\n",
       "    <tr style=\"text-align: right;\">\n",
       "      <th></th>\n",
       "      <th>intitule_poste</th>\n",
       "      <th>nom_entreprise</th>\n",
       "      <th>distance_en_km</th>\n",
       "      <th>weighted_similarity_distance</th>\n",
       "    </tr>\n",
       "  </thead>\n",
       "  <tbody>\n",
       "    <tr>\n",
       "      <th>0</th>\n",
       "      <td>Développeur web</td>\n",
       "      <td>XYZ Company</td>\n",
       "      <td>0.000000</td>\n",
       "      <td>0.565402</td>\n",
       "    </tr>\n",
       "    <tr>\n",
       "      <th>2</th>\n",
       "      <td>Ingénieur logiciel</td>\n",
       "      <td>XYZ Company</td>\n",
       "      <td>660.493269</td>\n",
       "      <td>0.365402</td>\n",
       "    </tr>\n",
       "    <tr>\n",
       "      <th>1</th>\n",
       "      <td>Data analyst</td>\n",
       "      <td>ABC Corporation</td>\n",
       "      <td>393.607816</td>\n",
       "      <td>0.080814</td>\n",
       "    </tr>\n",
       "  </tbody>\n",
       "</table>\n",
       "</div>"
      ],
      "text/plain": [
       "       intitule_poste   nom_entreprise  distance_en_km  \\\n",
       "0     Développeur web      XYZ Company        0.000000   \n",
       "2  Ingénieur logiciel      XYZ Company      660.493269   \n",
       "1        Data analyst  ABC Corporation      393.607816   \n",
       "\n",
       "   weighted_similarity_distance  \n",
       "0                      0.565402  \n",
       "2                      0.365402  \n",
       "1                      0.080814  "
      ]
     },
     "execution_count": 194,
     "metadata": {},
     "output_type": "execute_result"
    }
   ],
   "source": [
    "import pandas as pd\n",
    "from sklearn.metrics.pairwise import cosine_similarity\n",
    "from sklearn.feature_extraction.text import TfidfVectorizer\n",
    "from geopy.distance import geodesic\n",
    "\n",
    "# Exemple de dataframe simplifié\n",
    "df = pd.DataFrame({\n",
    "    'intitule_poste': ['Développeur web', 'Data analyst', 'Ingénieur logiciel'],\n",
    "    'ville_du_poste': ['Paris', 'Lyon', 'Marseille'],\n",
    "    'type_entreprise': ['Start-up', 'Grande entreprise', 'Start-up'],\n",
    "    'nom_entreprise': ['XYZ Company', 'ABC Corporation', 'XYZ Company'],\n",
    "    'latitude': [48.8566, 45.75, 43.2965],\n",
    "    'longitude': [2.3522, 4.85, 5.3698],\n",
    "    'type_poste': ['CDI', 'CDD', 'CDI']\n",
    "})\n",
    "\n",
    "# Préférences de l'utilisateur\n",
    "ville_preferee = 'Paris'\n",
    "type_entreprise_prefere = 'Start-up'\n",
    "type_poste_desire = 'CDI'\n",
    "\n",
    "# Coordonnées géographiques de la ville choisie par l'utilisateur\n",
    "user_location = (48.8566, 2.3522)  # Paris (latitude, longitude)\n",
    "\n",
    "# Calcul de la distance entre les villes\n",
    "df['distance_en_km'] = df.apply(lambda row: geodesic(user_location, (row['latitude'], row['longitude'])).km, axis=1)\n",
    "\n",
    "# Calcul de la similarité cosinus\n",
    "vectorizer = TfidfVectorizer()\n",
    "job_desc = df['intitule_poste'] + ' ' + df['type_entreprise'] + ' ' + df['type_poste']\n",
    "user_preferences = ville_preferee + ' ' + type_entreprise_prefere + ' ' + type_poste_desire\n",
    "X = vectorizer.fit_transform(job_desc.append(pd.Series(user_preferences)))\n",
    "similarity_scores = cosine_similarity(X[:-1], X[-1])\n",
    "\n",
    "# Normalisation de la distance\n",
    "max_distance = df['distance_en_km'].max()\n",
    "df['normalized_distance'] = 1 - (df['distance_en_km'] / max_distance)\n",
    "\n",
    "# Attribution des poids aux similarités et à la distance\n",
    "similarity_weight = 0.8\n",
    "distance_weight = 0.2\n",
    "\n",
    "# Création d'une nouvelle colonne pour stocker les scores de similarité\n",
    "df['similarity_score'] = similarity_scores.flatten()\n",
    "\n",
    "# Calcul de la similarité pondérée\n",
    "df['weighted_similarity'] = df['similarity_score'] * similarity_weight\n",
    "df['weighted_distance'] = df['normalized_distance'] * distance_weight\n",
    "df['weighted_similarity_distance'] = df['weighted_similarity'] + df['weighted_distance']\n",
    "\n",
    "# Tri des offres d'emploi par similarité pondérée et distance croissantes\n",
    "sorted_df = df.sort_values(by=['weighted_similarity_distance', 'distance_en_km'], ascending=[False, True])\n",
    "\n",
    "# Affichage des résultats\n",
    "top_results = sorted_df.head(5)  # Vous pouvez ajuster le nombre de résultats à afficher\n",
    "top_results[['intitule_poste', 'nom_entreprise', 'distance_en_km', 'weighted_similarity_distance']].head()\n"
   ]
  }
 ],
 "metadata": {
  "kernelspec": {
   "display_name": "Python 3",
   "language": "python",
   "name": "python3"
  },
  "language_info": {
   "codemirror_mode": {
    "name": "ipython",
    "version": 3
   },
   "file_extension": ".py",
   "mimetype": "text/x-python",
   "name": "python",
   "nbconvert_exporter": "python",
   "pygments_lexer": "ipython3",
   "version": "3.10.7"
  },
  "orig_nbformat": 4
 },
 "nbformat": 4,
 "nbformat_minor": 2
}
