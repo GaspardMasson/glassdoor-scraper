{
 "cells": [
  {
   "attachments": {},
   "cell_type": "markdown",
   "metadata": {},
   "source": [
    "### Libraries"
   ]
  },
  {
   "cell_type": "code",
   "execution_count": 1,
   "metadata": {},
   "outputs": [],
   "source": [
    "import pandas as pd"
   ]
  },
  {
   "attachments": {},
   "cell_type": "markdown",
   "metadata": {},
   "source": [
    "### Datasets"
   ]
  },
  {
   "cell_type": "code",
   "execution_count": 10,
   "metadata": {},
   "outputs": [],
   "source": [
    "data_DA = pd.read_csv('datas/GLASSDOOR_DA_LASTMONTH.csv', encoding_errors='ignore')\n",
    "data_DE = pd.read_csv('datas/GLASSDOOR_DE_LASTMONTH.csv', encoding_errors='ignore')\n",
    "data_DS = pd.read_csv('datas/GLASSDOOR_DS_LASTMONTH.csv', encoding_errors='ignore')"
   ]
  },
  {
   "cell_type": "code",
   "execution_count": 2,
   "metadata": {},
   "outputs": [],
   "source": [
    "ddddd = pd.read_csv('datas/pitie.csv', encoding_errors='ignore')"
   ]
  },
  {
   "cell_type": "code",
   "execution_count": 13,
   "metadata": {},
   "outputs": [],
   "source": [
    "data_DA[\"POSTE\"] = \"DATA ANALYST\"\n",
    "data_DE[\"POSTE\"] = \"DATA ENGINEER\"\n",
    "data_DS[\"POSTE\"] = \"DATA SCIENTIST\""
   ]
  },
  {
   "cell_type": "code",
   "execution_count": 15,
   "metadata": {},
   "outputs": [],
   "source": [
    "# append dataframes using concat\n",
    "ddddd = pd.concat([data_DA, data_DE, data_DS, ddddd], ignore_index=True)\n"
   ]
  },
  {
   "cell_type": "code",
   "execution_count": 18,
   "metadata": {},
   "outputs": [
    {
     "data": {
      "text/plain": [
       "(2877, 13)"
      ]
     },
     "execution_count": 18,
     "metadata": {},
     "output_type": "execute_result"
    }
   ],
   "source": [
    "ddddd.shape"
   ]
  },
  {
   "cell_type": "code",
   "execution_count": 19,
   "metadata": {},
   "outputs": [
    {
     "data": {
      "text/plain": [
       "2"
      ]
     },
     "execution_count": 19,
     "metadata": {},
     "output_type": "execute_result"
    }
   ],
   "source": [
    "# nb de lignes dupliquées\n",
    "ddddd.duplicated().sum()"
   ]
  },
  {
   "cell_type": "code",
   "execution_count": 20,
   "metadata": {},
   "outputs": [],
   "source": [
    "ddddd[\"help_drop\"] = ddddd[\"company_offeredRole\"] + \" \" + ddddd[\"company_roleLocation\"] + \" \" + ddddd[\"companyName\"] + \" \" + ddddd[\"listing_jobDesc\"]"
   ]
  },
  {
   "cell_type": "code",
   "execution_count": 21,
   "metadata": {},
   "outputs": [
    {
     "data": {
      "text/plain": [
       "(297, 13)"
      ]
     },
     "execution_count": 21,
     "metadata": {},
     "output_type": "execute_result"
    }
   ],
   "source": [
    "ddddd.drop_duplicates(subset =\"help_drop\").shape"
   ]
  },
  {
   "cell_type": "code",
   "execution_count": 22,
   "metadata": {},
   "outputs": [],
   "source": [
    "ddddd.to_csv('datas/CAMILLECLUSTERING.csv', index=False)"
   ]
  },
  {
   "cell_type": "code",
   "execution_count": 4,
   "metadata": {},
   "outputs": [
    {
     "data": {
      "text/plain": [
       "Index(['companyName', 'company_starRating', 'company_offeredRole',\n",
       "       'company_roleLocation', 'headquarters', 'size', 'type', 'revenue',\n",
       "       'listing_jobDesc', 'requested_url', 'Unnamed: 10', 'POSTE'],\n",
       "      dtype='object')"
      ]
     },
     "execution_count": 4,
     "metadata": {},
     "output_type": "execute_result"
    }
   ],
   "source": [
    "ddddd.columns"
   ]
  },
  {
   "cell_type": "code",
   "execution_count": null,
   "metadata": {},
   "outputs": [],
   "source": []
  },
  {
   "cell_type": "code",
   "execution_count": 66,
   "metadata": {},
   "outputs": [],
   "source": [
    "#Drop the first row\n",
    "data_DA = data_DA.drop(data_DA.index[0])\n",
    "data_DS = data_DS.drop(data_DS.index[0])"
   ]
  },
  {
   "cell_type": "code",
   "execution_count": 67,
   "metadata": {},
   "outputs": [
    {
     "data": {
      "text/plain": [
       "(2366, 10)"
      ]
     },
     "execution_count": 67,
     "metadata": {},
     "output_type": "execute_result"
    }
   ],
   "source": [
    "# append the dataframes\n",
    "data = pd.concat([data_DA,data_DE], ignore_index=True)\n",
    "data = pd.concat([data,data_DS], ignore_index=True)\n",
    "\n",
    "data.shape"
   ]
  },
  {
   "cell_type": "code",
   "execution_count": 68,
   "metadata": {},
   "outputs": [
    {
     "data": {
      "text/plain": [
       "['companyName',\n",
       " 'company_starRating',\n",
       " 'company_offeredRole',\n",
       " 'company_roleLocation',\n",
       " 'headquarters',\n",
       " 'size',\n",
       " 'type',\n",
       " 'revenue',\n",
       " 'listing_jobDesc',\n",
       " 'requested_url']"
      ]
     },
     "execution_count": 68,
     "metadata": {},
     "output_type": "execute_result"
    }
   ],
   "source": [
    "columns = data.columns\n",
    "columns.tolist()"
   ]
  },
  {
   "cell_type": "code",
   "execution_count": 69,
   "metadata": {},
   "outputs": [],
   "source": [
    "data_3 = pd.read_csv(\"datas/Glassdoor_Skills_Analysis_no_duplicates.csv\", encoding_errors='ignore') "
   ]
  },
  {
   "cell_type": "code",
   "execution_count": 70,
   "metadata": {},
   "outputs": [
    {
     "data": {
      "text/plain": [
       "Index(['Unnamed: 0', 'company_offeredRole', 'size', 'type', 'revenue',\n",
       "       'listing_jobDesc', 'requested_url', 'Search_keyword', 'Company_Rating',\n",
       "       'Job_Description', 'Job_Name', 'Company_Name', 'Company_RoleLocation',\n",
       "       'Company_Headquarters', 'clustering_naif_keywords', 'Data Scientist',\n",
       "       'Data Analyst', 'Data Engineer', 'Data Science', 'Consistent_Offer',\n",
       "       'Job_Description_lemmatized', 'skills', 'skills_list'],\n",
       "      dtype='object')"
      ]
     },
     "execution_count": 70,
     "metadata": {},
     "output_type": "execute_result"
    }
   ],
   "source": [
    "data_3.columns"
   ]
  },
  {
   "cell_type": "code",
   "execution_count": 71,
   "metadata": {},
   "outputs": [],
   "source": [
    "columns = ['Company_Name','Company_Rating','company_offeredRole','Company_RoleLocation', 'Company_Headquarters', 'size', 'type', 'revenue',\n",
    "       'listing_jobDesc', 'requested_url', 'skills']"
   ]
  },
  {
   "cell_type": "code",
   "execution_count": 72,
   "metadata": {},
   "outputs": [
    {
     "data": {
      "text/html": [
       "<div>\n",
       "<style scoped>\n",
       "    .dataframe tbody tr th:only-of-type {\n",
       "        vertical-align: middle;\n",
       "    }\n",
       "\n",
       "    .dataframe tbody tr th {\n",
       "        vertical-align: top;\n",
       "    }\n",
       "\n",
       "    .dataframe thead th {\n",
       "        text-align: right;\n",
       "    }\n",
       "</style>\n",
       "<table border=\"1\" class=\"dataframe\">\n",
       "  <thead>\n",
       "    <tr style=\"text-align: right;\">\n",
       "      <th></th>\n",
       "      <th>Company_Name</th>\n",
       "      <th>Company_Rating</th>\n",
       "      <th>company_offeredRole</th>\n",
       "      <th>Company_RoleLocation</th>\n",
       "      <th>Company_Headquarters</th>\n",
       "      <th>size</th>\n",
       "      <th>type</th>\n",
       "      <th>revenue</th>\n",
       "      <th>listing_jobDesc</th>\n",
       "      <th>requested_url</th>\n",
       "      <th>skills</th>\n",
       "    </tr>\n",
       "  </thead>\n",
       "  <tbody>\n",
       "    <tr>\n",
       "      <th>0</th>\n",
       "      <td>euro information developpements</td>\n",
       "      <td>4.2</td>\n",
       "      <td>Data Engineer (H/F)</td>\n",
       "      <td>dijon</td>\n",
       "      <td>strasbourg</td>\n",
       "      <td>10000+ Employees</td>\n",
       "      <td>Company - Public</td>\n",
       "      <td>Unknown / Non-Applicable</td>\n",
       "      <td>\\nLaccompagnement de tous par notre organisat...</td>\n",
       "      <td>https://www.glassdoor.com/partner/jobListing.h...</td>\n",
       "      <td>['nosql', 'server', 'framework', 'scikit learn...</td>\n",
       "    </tr>\n",
       "    <tr>\n",
       "      <th>1</th>\n",
       "      <td>casden banque populaire</td>\n",
       "      <td>3.9</td>\n",
       "      <td>DATA ENGINEER F/H</td>\n",
       "      <td>champs sur marne</td>\n",
       "      <td>NaN</td>\n",
       "      <td>10000+ Employees</td>\n",
       "      <td>Company - Public</td>\n",
       "      <td>Unknown / Non-Applicable</td>\n",
       "      <td>Construction du socle de données ; Alimentatio...</td>\n",
       "      <td>https://www.glassdoor.com/partner/jobListing.h...</td>\n",
       "      <td>['monitoring', 'business', 'database', 'shell']</td>\n",
       "    </tr>\n",
       "    <tr>\n",
       "      <th>2</th>\n",
       "      <td>cs group</td>\n",
       "      <td>3.4</td>\n",
       "      <td>Ingénieur Data Gouvernance - F/H</td>\n",
       "      <td>toulouse</td>\n",
       "      <td>NaN</td>\n",
       "      <td>1001 to 5000 Employees</td>\n",
       "      <td>Company - Private</td>\n",
       "      <td>$100 to $500 million (USD)</td>\n",
       "      <td>Participer à lorganisation des procédures de ...</td>\n",
       "      <td>https://www.glassdoor.com/partner/jobListing.h...</td>\n",
       "      <td>['documentation', 'business']</td>\n",
       "    </tr>\n",
       "    <tr>\n",
       "      <th>3</th>\n",
       "      <td>valeo</td>\n",
       "      <td>3.6</td>\n",
       "      <td>Test &amp; Validation Engineer Trainee</td>\n",
       "      <td>bobigny</td>\n",
       "      <td>NaN</td>\n",
       "      <td>10000+ Employees</td>\n",
       "      <td>Company - Private</td>\n",
       "      <td>$10+ billion (USD)</td>\n",
       "      <td>Select the right algorithms solutions\\n Define...</td>\n",
       "      <td>https://www.glassdoor.com/partner/jobListing.h...</td>\n",
       "      <td>['algorithm', 'software', 'design', 'business'...</td>\n",
       "    </tr>\n",
       "    <tr>\n",
       "      <th>4</th>\n",
       "      <td>trekea sas</td>\n",
       "      <td>3.7</td>\n",
       "      <td>JUNIOR / EXPERIENCED SOFTWARE ENGINEER</td>\n",
       "      <td>NaN</td>\n",
       "      <td>NaN</td>\n",
       "      <td>Unknown</td>\n",
       "      <td>Company - Public</td>\n",
       "      <td>Unknown / Non-Applicable</td>\n",
       "      <td>Become the reference for one or more specific ...</td>\n",
       "      <td>https://www.glassdoor.com/partner/jobListing.h...</td>\n",
       "      <td>['java', 'kubernetes', 'engineering', 'docker'...</td>\n",
       "    </tr>\n",
       "  </tbody>\n",
       "</table>\n",
       "</div>"
      ],
      "text/plain": [
       "                      Company_Name  Company_Rating  \\\n",
       "0  euro information developpements             4.2   \n",
       "1          casden banque populaire             3.9   \n",
       "2                         cs group             3.4   \n",
       "3                            valeo             3.6   \n",
       "4                       trekea sas             3.7   \n",
       "\n",
       "                      company_offeredRole Company_RoleLocation  \\\n",
       "0                     Data Engineer (H/F)                dijon   \n",
       "1                       DATA ENGINEER F/H     champs sur marne   \n",
       "2        Ingénieur Data Gouvernance - F/H             toulouse   \n",
       "3      Test & Validation Engineer Trainee              bobigny   \n",
       "4  JUNIOR / EXPERIENCED SOFTWARE ENGINEER                  NaN   \n",
       "\n",
       "  Company_Headquarters                    size               type  \\\n",
       "0           strasbourg        10000+ Employees   Company - Public   \n",
       "1                  NaN        10000+ Employees   Company - Public   \n",
       "2                  NaN  1001 to 5000 Employees  Company - Private   \n",
       "3                  NaN        10000+ Employees  Company - Private   \n",
       "4                  NaN                 Unknown   Company - Public   \n",
       "\n",
       "                      revenue  \\\n",
       "0    Unknown / Non-Applicable   \n",
       "1    Unknown / Non-Applicable   \n",
       "2  $100 to $500 million (USD)   \n",
       "3          $10+ billion (USD)   \n",
       "4    Unknown / Non-Applicable   \n",
       "\n",
       "                                     listing_jobDesc  \\\n",
       "0  \\nLaccompagnement de tous par notre organisat...   \n",
       "1  Construction du socle de données ; Alimentatio...   \n",
       "2  Participer à lorganisation des procédures de ...   \n",
       "3  Select the right algorithms solutions\\n Define...   \n",
       "4  Become the reference for one or more specific ...   \n",
       "\n",
       "                                       requested_url  \\\n",
       "0  https://www.glassdoor.com/partner/jobListing.h...   \n",
       "1  https://www.glassdoor.com/partner/jobListing.h...   \n",
       "2  https://www.glassdoor.com/partner/jobListing.h...   \n",
       "3  https://www.glassdoor.com/partner/jobListing.h...   \n",
       "4  https://www.glassdoor.com/partner/jobListing.h...   \n",
       "\n",
       "                                              skills  \n",
       "0  ['nosql', 'server', 'framework', 'scikit learn...  \n",
       "1    ['monitoring', 'business', 'database', 'shell']  \n",
       "2                      ['documentation', 'business']  \n",
       "3  ['algorithm', 'software', 'design', 'business'...  \n",
       "4  ['java', 'kubernetes', 'engineering', 'docker'...  "
      ]
     },
     "execution_count": 72,
     "metadata": {},
     "output_type": "execute_result"
    }
   ],
   "source": [
    "data_3[columns].head()"
   ]
  },
  {
   "cell_type": "code",
   "execution_count": 73,
   "metadata": {},
   "outputs": [],
   "source": [
    "data_3[\"skills_list\"] = data_3[\"skills\"].str.split(\",\")"
   ]
  },
  {
   "cell_type": "code",
   "execution_count": 74,
   "metadata": {},
   "outputs": [],
   "source": [
    "list_skills = data_3[\"skills_list\"].tolist()\n",
    "list_skills\n",
    "\n",
    "nouvelle_liste = []\n",
    "for sous_liste in list_skills:\n",
    "    nouvelle_liste.extend(sous_liste)\n",
    "\n",
    "# pd.DataFrame(nouvelle_liste).to_csv(\"datas/skills_list.csv\")"
   ]
  },
  {
   "cell_type": "code",
   "execution_count": 75,
   "metadata": {},
   "outputs": [],
   "source": [
    "# pd.DataFrame(nouvelle_liste).value_counts().to_csv(\"datas/skills_list_count.csv\")"
   ]
  },
  {
   "cell_type": "code",
   "execution_count": 76,
   "metadata": {},
   "outputs": [],
   "source": [
    "# remove any '[' or ']' from the skills\n",
    "data_3[\"skills\"] = data_3[\"skills\"].str.replace(\"[\",\"\")\n",
    "data_3[\"skills\"] = data_3[\"skills\"].str.replace(\"]\",\"\")"
   ]
  },
  {
   "cell_type": "code",
   "execution_count": 77,
   "metadata": {},
   "outputs": [],
   "source": [
    "# import ast\n",
    "\n",
    "# # Liste des skills cibles\n",
    "# target_skills = ['software']\n",
    "\n",
    "# # Fonction pour filtrer les lignes\n",
    "# def filter_skills(row):\n",
    "#     skills = ast.literal_eval(row['skills'])\n",
    "#     for skill in skills:\n",
    "#         if skill in target_skills:\n",
    "#             return True\n",
    "#     return False\n",
    "\n",
    "# # Appliquer le filtre sur le DataFrame\n",
    "# filtered_df = data_3[data_3.apply(filter_skills, axis=1)]"
   ]
  },
  {
   "cell_type": "code",
   "execution_count": 78,
   "metadata": {},
   "outputs": [
    {
     "data": {
      "text/html": [
       "<div>\n",
       "<style scoped>\n",
       "    .dataframe tbody tr th:only-of-type {\n",
       "        vertical-align: middle;\n",
       "    }\n",
       "\n",
       "    .dataframe tbody tr th {\n",
       "        vertical-align: top;\n",
       "    }\n",
       "\n",
       "    .dataframe thead th {\n",
       "        text-align: right;\n",
       "    }\n",
       "</style>\n",
       "<table border=\"1\" class=\"dataframe\">\n",
       "  <thead>\n",
       "    <tr style=\"text-align: right;\">\n",
       "      <th></th>\n",
       "      <th>Unnamed: 0</th>\n",
       "      <th>company_offeredRole</th>\n",
       "      <th>size</th>\n",
       "      <th>type</th>\n",
       "      <th>revenue</th>\n",
       "      <th>listing_jobDesc</th>\n",
       "      <th>requested_url</th>\n",
       "      <th>Search_keyword</th>\n",
       "      <th>Company_Rating</th>\n",
       "      <th>Job_Description</th>\n",
       "      <th>...</th>\n",
       "      <th>clustering_naif_keywords</th>\n",
       "      <th>Data Scientist</th>\n",
       "      <th>Data Analyst</th>\n",
       "      <th>Data Engineer</th>\n",
       "      <th>Data Science</th>\n",
       "      <th>Consistent_Offer</th>\n",
       "      <th>Job_Description_lemmatized</th>\n",
       "      <th>skills</th>\n",
       "      <th>skills_list</th>\n",
       "      <th>type_poste</th>\n",
       "    </tr>\n",
       "  </thead>\n",
       "  <tbody>\n",
       "  </tbody>\n",
       "</table>\n",
       "<p>0 rows × 24 columns</p>\n",
       "</div>"
      ],
      "text/plain": [
       "Empty DataFrame\n",
       "Columns: [Unnamed: 0, company_offeredRole, size, type, revenue, listing_jobDesc, requested_url, Search_keyword, Company_Rating, Job_Description, Job_Name, Company_Name, Company_RoleLocation, Company_Headquarters, clustering_naif_keywords, Data Scientist, Data Analyst, Data Engineer, Data Science, Consistent_Offer, Job_Description_lemmatized, skills, skills_list, type_poste]\n",
       "Index: []\n",
       "\n",
       "[0 rows x 24 columns]"
      ]
     },
     "execution_count": 78,
     "metadata": {},
     "output_type": "execute_result"
    }
   ],
   "source": [
    "filtered_df"
   ]
  },
  {
   "cell_type": "code",
   "execution_count": 79,
   "metadata": {},
   "outputs": [],
   "source": [
    "data = data_3.copy()"
   ]
  },
  {
   "cell_type": "code",
   "execution_count": 80,
   "metadata": {},
   "outputs": [
    {
     "data": {
      "text/html": [
       "<div>\n",
       "<style scoped>\n",
       "    .dataframe tbody tr th:only-of-type {\n",
       "        vertical-align: middle;\n",
       "    }\n",
       "\n",
       "    .dataframe tbody tr th {\n",
       "        vertical-align: top;\n",
       "    }\n",
       "\n",
       "    .dataframe thead th {\n",
       "        text-align: right;\n",
       "    }\n",
       "</style>\n",
       "<table border=\"1\" class=\"dataframe\">\n",
       "  <thead>\n",
       "    <tr style=\"text-align: right;\">\n",
       "      <th></th>\n",
       "      <th>Unnamed: 0</th>\n",
       "      <th>company_offeredRole</th>\n",
       "      <th>size</th>\n",
       "      <th>type</th>\n",
       "      <th>revenue</th>\n",
       "      <th>listing_jobDesc</th>\n",
       "      <th>requested_url</th>\n",
       "      <th>Search_keyword</th>\n",
       "      <th>Company_Rating</th>\n",
       "      <th>Job_Description</th>\n",
       "      <th>...</th>\n",
       "      <th>Company_Headquarters</th>\n",
       "      <th>clustering_naif_keywords</th>\n",
       "      <th>Data Scientist</th>\n",
       "      <th>Data Analyst</th>\n",
       "      <th>Data Engineer</th>\n",
       "      <th>Data Science</th>\n",
       "      <th>Consistent_Offer</th>\n",
       "      <th>Job_Description_lemmatized</th>\n",
       "      <th>skills</th>\n",
       "      <th>skills_list</th>\n",
       "    </tr>\n",
       "  </thead>\n",
       "  <tbody>\n",
       "    <tr>\n",
       "      <th>0</th>\n",
       "      <td>0</td>\n",
       "      <td>Data Engineer (H/F)</td>\n",
       "      <td>10000+ Employees</td>\n",
       "      <td>Company - Public</td>\n",
       "      <td>Unknown / Non-Applicable</td>\n",
       "      <td>\\nLaccompagnement de tous par notre organisat...</td>\n",
       "      <td>https://www.glassdoor.com/partner/jobListing.h...</td>\n",
       "      <td>Data Engineer</td>\n",
       "      <td>4.2</td>\n",
       "      <td>support everyone cooperative mutualist organiz...</td>\n",
       "      <td>...</td>\n",
       "      <td>strasbourg</td>\n",
       "      <td>['Data Engineer']</td>\n",
       "      <td>False</td>\n",
       "      <td>False</td>\n",
       "      <td>True</td>\n",
       "      <td>NaN</td>\n",
       "      <td>True</td>\n",
       "      <td>support everyone cooperative mutualist organiz...</td>\n",
       "      <td>'nosql', 'server', 'framework', 'scikit learn'...</td>\n",
       "      <td>[['nosql',  'server',  'framework',  'scikit l...</td>\n",
       "    </tr>\n",
       "    <tr>\n",
       "      <th>1</th>\n",
       "      <td>1</td>\n",
       "      <td>DATA ENGINEER F/H</td>\n",
       "      <td>10000+ Employees</td>\n",
       "      <td>Company - Public</td>\n",
       "      <td>Unknown / Non-Applicable</td>\n",
       "      <td>Construction du socle de données ; Alimentatio...</td>\n",
       "      <td>https://www.glassdoor.com/partner/jobListing.h...</td>\n",
       "      <td>Data Engineer</td>\n",
       "      <td>3.9</td>\n",
       "      <td>construction database supply preparation data ...</td>\n",
       "      <td>...</td>\n",
       "      <td>NaN</td>\n",
       "      <td>['Data Engineer']</td>\n",
       "      <td>False</td>\n",
       "      <td>False</td>\n",
       "      <td>True</td>\n",
       "      <td>NaN</td>\n",
       "      <td>True</td>\n",
       "      <td>construction database supply preparation proje...</td>\n",
       "      <td>'monitoring', 'business', 'database', 'shell'</td>\n",
       "      <td>[['monitoring',  'business',  'database',  'sh...</td>\n",
       "    </tr>\n",
       "    <tr>\n",
       "      <th>2</th>\n",
       "      <td>2</td>\n",
       "      <td>Ingénieur Data Gouvernance - F/H</td>\n",
       "      <td>1001 to 5000 Employees</td>\n",
       "      <td>Company - Private</td>\n",
       "      <td>$100 to $500 million (USD)</td>\n",
       "      <td>Participer à lorganisation des procédures de ...</td>\n",
       "      <td>https://www.glassdoor.com/partner/jobListing.h...</td>\n",
       "      <td>Data Engineer</td>\n",
       "      <td>3.4</td>\n",
       "      <td>participate organization work procedures data ...</td>\n",
       "      <td>...</td>\n",
       "      <td>NaN</td>\n",
       "      <td>['Data Engineer']</td>\n",
       "      <td>False</td>\n",
       "      <td>False</td>\n",
       "      <td>True</td>\n",
       "      <td>NaN</td>\n",
       "      <td>True</td>\n",
       "      <td>participate organization work procedure office...</td>\n",
       "      <td>'documentation', 'business'</td>\n",
       "      <td>[['documentation',  'business']]</td>\n",
       "    </tr>\n",
       "    <tr>\n",
       "      <th>3</th>\n",
       "      <td>3</td>\n",
       "      <td>Test &amp; Validation Engineer Trainee</td>\n",
       "      <td>10000+ Employees</td>\n",
       "      <td>Company - Private</td>\n",
       "      <td>$10+ billion (USD)</td>\n",
       "      <td>Select the right algorithms solutions\\n Define...</td>\n",
       "      <td>https://www.glassdoor.com/partner/jobListing.h...</td>\n",
       "      <td>Data Engineer</td>\n",
       "      <td>3.6</td>\n",
       "      <td>select right algorithms solutions define test ...</td>\n",
       "      <td>...</td>\n",
       "      <td>NaN</td>\n",
       "      <td>['Data Engineer']</td>\n",
       "      <td>False</td>\n",
       "      <td>False</td>\n",
       "      <td>True</td>\n",
       "      <td>NaN</td>\n",
       "      <td>True</td>\n",
       "      <td>select right algorithm solution define test be...</td>\n",
       "      <td>'algorithm', 'software', 'design', 'business',...</td>\n",
       "      <td>[['algorithm',  'software',  'design',  'busin...</td>\n",
       "    </tr>\n",
       "    <tr>\n",
       "      <th>4</th>\n",
       "      <td>4</td>\n",
       "      <td>JUNIOR / EXPERIENCED SOFTWARE ENGINEER</td>\n",
       "      <td>Unknown</td>\n",
       "      <td>Company - Public</td>\n",
       "      <td>Unknown / Non-Applicable</td>\n",
       "      <td>Become the reference for one or more specific ...</td>\n",
       "      <td>https://www.glassdoor.com/partner/jobListing.h...</td>\n",
       "      <td>Data Engineer</td>\n",
       "      <td>3.7</td>\n",
       "      <td>become reference one specific modules solution...</td>\n",
       "      <td>...</td>\n",
       "      <td>NaN</td>\n",
       "      <td>['Data Engineer']</td>\n",
       "      <td>False</td>\n",
       "      <td>False</td>\n",
       "      <td>True</td>\n",
       "      <td>NaN</td>\n",
       "      <td>True</td>\n",
       "      <td>become reference one specific module solution ...</td>\n",
       "      <td>'java', 'kubernetes', 'engineering', 'docker',...</td>\n",
       "      <td>[['java',  'kubernetes',  'engineering',  'doc...</td>\n",
       "    </tr>\n",
       "  </tbody>\n",
       "</table>\n",
       "<p>5 rows × 23 columns</p>\n",
       "</div>"
      ],
      "text/plain": [
       "   Unnamed: 0                     company_offeredRole                    size  \\\n",
       "0           0                     Data Engineer (H/F)        10000+ Employees   \n",
       "1           1                       DATA ENGINEER F/H        10000+ Employees   \n",
       "2           2        Ingénieur Data Gouvernance - F/H  1001 to 5000 Employees   \n",
       "3           3      Test & Validation Engineer Trainee        10000+ Employees   \n",
       "4           4  JUNIOR / EXPERIENCED SOFTWARE ENGINEER                 Unknown   \n",
       "\n",
       "                type                     revenue  \\\n",
       "0   Company - Public    Unknown / Non-Applicable   \n",
       "1   Company - Public    Unknown / Non-Applicable   \n",
       "2  Company - Private  $100 to $500 million (USD)   \n",
       "3  Company - Private          $10+ billion (USD)   \n",
       "4   Company - Public    Unknown / Non-Applicable   \n",
       "\n",
       "                                     listing_jobDesc  \\\n",
       "0  \\nLaccompagnement de tous par notre organisat...   \n",
       "1  Construction du socle de données ; Alimentatio...   \n",
       "2  Participer à lorganisation des procédures de ...   \n",
       "3  Select the right algorithms solutions\\n Define...   \n",
       "4  Become the reference for one or more specific ...   \n",
       "\n",
       "                                       requested_url Search_keyword  \\\n",
       "0  https://www.glassdoor.com/partner/jobListing.h...  Data Engineer   \n",
       "1  https://www.glassdoor.com/partner/jobListing.h...  Data Engineer   \n",
       "2  https://www.glassdoor.com/partner/jobListing.h...  Data Engineer   \n",
       "3  https://www.glassdoor.com/partner/jobListing.h...  Data Engineer   \n",
       "4  https://www.glassdoor.com/partner/jobListing.h...  Data Engineer   \n",
       "\n",
       "   Company_Rating                                    Job_Description  ...  \\\n",
       "0             4.2  support everyone cooperative mutualist organiz...  ...   \n",
       "1             3.9  construction database supply preparation data ...  ...   \n",
       "2             3.4  participate organization work procedures data ...  ...   \n",
       "3             3.6  select right algorithms solutions define test ...  ...   \n",
       "4             3.7  become reference one specific modules solution...  ...   \n",
       "\n",
       "  Company_Headquarters clustering_naif_keywords Data Scientist Data Analyst  \\\n",
       "0           strasbourg        ['Data Engineer']          False        False   \n",
       "1                  NaN        ['Data Engineer']          False        False   \n",
       "2                  NaN        ['Data Engineer']          False        False   \n",
       "3                  NaN        ['Data Engineer']          False        False   \n",
       "4                  NaN        ['Data Engineer']          False        False   \n",
       "\n",
       "  Data Engineer  Data Science  Consistent_Offer  \\\n",
       "0          True           NaN              True   \n",
       "1          True           NaN              True   \n",
       "2          True           NaN              True   \n",
       "3          True           NaN              True   \n",
       "4          True           NaN              True   \n",
       "\n",
       "                          Job_Description_lemmatized  \\\n",
       "0  support everyone cooperative mutualist organiz...   \n",
       "1  construction database supply preparation proje...   \n",
       "2  participate organization work procedure office...   \n",
       "3  select right algorithm solution define test be...   \n",
       "4  become reference one specific module solution ...   \n",
       "\n",
       "                                              skills  \\\n",
       "0  'nosql', 'server', 'framework', 'scikit learn'...   \n",
       "1      'monitoring', 'business', 'database', 'shell'   \n",
       "2                        'documentation', 'business'   \n",
       "3  'algorithm', 'software', 'design', 'business',...   \n",
       "4  'java', 'kubernetes', 'engineering', 'docker',...   \n",
       "\n",
       "                                         skills_list  \n",
       "0  [['nosql',  'server',  'framework',  'scikit l...  \n",
       "1  [['monitoring',  'business',  'database',  'sh...  \n",
       "2                   [['documentation',  'business']]  \n",
       "3  [['algorithm',  'software',  'design',  'busin...  \n",
       "4  [['java',  'kubernetes',  'engineering',  'doc...  \n",
       "\n",
       "[5 rows x 23 columns]"
      ]
     },
     "execution_count": 80,
     "metadata": {},
     "output_type": "execute_result"
    }
   ],
   "source": [
    "data.head()"
   ]
  },
  {
   "cell_type": "code",
   "execution_count": 81,
   "metadata": {},
   "outputs": [],
   "source": [
    "#assigner au hasard une valeur a data[\"type_poste\"] entre Data Analyst, Data Scientist et Data Engineer\n",
    "import random\n",
    "import numpy as np\n",
    "\n",
    "def random_poste():\n",
    "    return random.choice([\"Data Analyst\", \"Data Scientist\", \"Data Engineer\"])\n",
    "\n",
    "data[\"type_poste\"] = np.vectorize(random_poste)()"
   ]
  },
  {
   "cell_type": "code",
   "execution_count": 82,
   "metadata": {},
   "outputs": [],
   "source": [
    "# from geopy.geocoders import Nominatim\n",
    "# from geopy.distance import geodesic\n",
    "\n",
    "# def get_coordinates(city):\n",
    "#     geolocator = Nominatim(user_agent=\"distance_calculator\")\n",
    "#     location = geolocator.geocode(city)\n",
    "#     if location is None:\n",
    "#         return None\n",
    "#     return location.latitude, location.longitude\n",
    "\n",
    "# def calculate_distance(city1, city2):\n",
    "#     coordinates1 = get_coordinates(city1)\n",
    "#     coordinates2 = get_coordinates(city2)\n",
    "    \n",
    "#     if coordinates1 is None or coordinates2 is None:\n",
    "#         return \"Impossible de trouver les coordonnées de l'une des villes.\"\n",
    "    \n",
    "#     distance = geodesic(coordinates1, coordinates2).kilometers\n",
    "#     return distance\n",
    "\n",
    "# # Exemple d'utilisation\n",
    "# city1 = \"Beuzeville-la-bastille\"\n",
    "# city2 = \"Auray\"\n",
    "\n",
    "# distance = calculate_distance(city1, city2)\n",
    "# print(f\"La distance entre {city1} et {city2} est d'environ {distance:.2f} kilomètres.\")\n"
   ]
  },
  {
   "cell_type": "code",
   "execution_count": 83,
   "metadata": {},
   "outputs": [],
   "source": [
    "from haversine import haversine, Unit\n",
    "\n",
    "def calculate_distance(city1, city2):\n",
    "    coordinates1 = get_coordinates(city1)\n",
    "    coordinates2 = get_coordinates(city2)\n",
    "    \n",
    "    if coordinates1 is None or coordinates2 is None:\n",
    "        return 100000\n",
    "    \n",
    "    distance = haversine(coordinates1, coordinates2, unit=Unit.KILOMETERS)\n",
    "    return distance\n"
   ]
  },
  {
   "cell_type": "code",
   "execution_count": 84,
   "metadata": {},
   "outputs": [],
   "source": [
    "# remove NA in company_offeredRole and company_roleLocation\n",
    "data = data.dropna(subset=['company_offeredRole', 'Company_RoleLocation'])"
   ]
  },
  {
   "cell_type": "code",
   "execution_count": 85,
   "metadata": {},
   "outputs": [],
   "source": [
    "#drop na\n",
    "data = data.dropna()"
   ]
  },
  {
   "cell_type": "code",
   "execution_count": 86,
   "metadata": {},
   "outputs": [
    {
     "data": {
      "text/plain": [
       "(10, 24)"
      ]
     },
     "execution_count": 86,
     "metadata": {},
     "output_type": "execute_result"
    }
   ],
   "source": [
    "data.shape"
   ]
  },
  {
   "cell_type": "code",
   "execution_count": 87,
   "metadata": {},
   "outputs": [],
   "source": [
    "# fill les na par des unknown\n",
    "data = data.fillna(\"unknown\")"
   ]
  },
  {
   "cell_type": "code",
   "execution_count": 88,
   "metadata": {},
   "outputs": [
    {
     "data": {
      "text/plain": [
       "Unnamed: 0                    0\n",
       "company_offeredRole           0\n",
       "size                          0\n",
       "type                          0\n",
       "revenue                       0\n",
       "listing_jobDesc               0\n",
       "requested_url                 0\n",
       "Search_keyword                0\n",
       "Company_Rating                0\n",
       "Job_Description               0\n",
       "Job_Name                      0\n",
       "Company_Name                  0\n",
       "Company_RoleLocation          0\n",
       "Company_Headquarters          0\n",
       "clustering_naif_keywords      0\n",
       "Data Scientist                0\n",
       "Data Analyst                  0\n",
       "Data Engineer                 0\n",
       "Data Science                  0\n",
       "Consistent_Offer              0\n",
       "Job_Description_lemmatized    0\n",
       "skills                        0\n",
       "skills_list                   0\n",
       "type_poste                    0\n",
       "dtype: int64"
      ]
     },
     "execution_count": 88,
     "metadata": {},
     "output_type": "execute_result"
    }
   ],
   "source": [
    "data.isna().sum()"
   ]
  },
  {
   "cell_type": "code",
   "execution_count": 89,
   "metadata": {},
   "outputs": [
    {
     "data": {
      "text/plain": [
       "size\n",
       "10000+ Employees          4\n",
       "1 to 50 Employees         3\n",
       "1001 to 5000 Employees    2\n",
       "51 to 200 Employees       1\n",
       "Name: count, dtype: int64"
      ]
     },
     "execution_count": 89,
     "metadata": {},
     "output_type": "execute_result"
    }
   ],
   "source": [
    "data[\"size\"].value_counts()"
   ]
  },
  {
   "cell_type": "code",
   "execution_count": 90,
   "metadata": {},
   "outputs": [
    {
     "name": "stdout",
     "output_type": "stream",
     "text": [
      "startup\n"
     ]
    }
   ],
   "source": [
    "mapping_size = {\n",
    "    '10000+ Employees': 'Grande entreprise',\n",
    "    '1001 to 5000 Employees': 'ETI',\n",
    "    '1 to 50 Employees': 'startup',\n",
    "    '201 to 500 Employees': 'PME',\n",
    "    '501 to 1000 Employees': 'PME',\n",
    "    '51 to 200 Employees': 'PME',\n",
    "    'Unknown': 'Unknown',\n",
    "    '5001 to 10000 Employees': 'Grande entreprise'\n",
    "}\n",
    "\n",
    "# Exemple d'utilisation du mapping\n",
    "entreprise = '1 to 50 Employees'\n",
    "categorie = mapping_size.get(entreprise, 'Non défini')\n",
    "\n",
    "print(categorie)\n"
   ]
  },
  {
   "cell_type": "code",
   "execution_count": 91,
   "metadata": {},
   "outputs": [
    {
     "data": {
      "text/plain": [
       "(10, 24)"
      ]
     },
     "execution_count": 91,
     "metadata": {},
     "output_type": "execute_result"
    }
   ],
   "source": [
    "data.shape"
   ]
  },
  {
   "cell_type": "code",
   "execution_count": 92,
   "metadata": {},
   "outputs": [
    {
     "data": {
      "text/plain": [
       "(0, 24)"
      ]
     },
     "execution_count": 92,
     "metadata": {},
     "output_type": "execute_result"
    }
   ],
   "source": [
    "# Filter the dataset based on the specified criteria\n",
    "filtered_df = data[data.duplicated(subset=['Company_RoleLocation', 'company_offeredRole', 'Company_Name'], keep=False)]\n",
    "\n",
    "# Print the filtered dataset\n",
    "filtered_df.shape\n"
   ]
  },
  {
   "cell_type": "code",
   "execution_count": 93,
   "metadata": {},
   "outputs": [
    {
     "data": {
      "text/plain": [
       "company_offeredRole\n",
       "Alternance - Ingénieur Architecture et Data science H/F - Grenoble    1\n",
       "Développeur Java Big Data Cloud Confirmé(e)                           1\n",
       "Product Manager Operation H/F                                         1\n",
       "Product Manager Revenu H/F                                            1\n",
       "Stage Data Scientist - Calcul paramétrique (H/F)                      1\n",
       "Chargé d'études en Datamining / Pilotage d'activité F/H               1\n",
       "Data Scientist                                                        1\n",
       "ALTERNANT DATA SCIENTIST                                              1\n",
       "Data Miner H/F en alternance Marseille                                1\n",
       "Data Scientist (500 Max) (IT) / Freelance                            1\n",
       "Name: count, dtype: int64"
      ]
     },
     "execution_count": 93,
     "metadata": {},
     "output_type": "execute_result"
    }
   ],
   "source": [
    "data[\"company_offeredRole\"].value_counts()"
   ]
  },
  {
   "cell_type": "code",
   "execution_count": 94,
   "metadata": {},
   "outputs": [],
   "source": [
    "data[\"help_drop\"] = data[\"company_offeredRole\"] + \" \" + data[\"Company_RoleLocation\"] + \" \" + data[\"Company_Name\"]"
   ]
  },
  {
   "cell_type": "code",
   "execution_count": 95,
   "metadata": {},
   "outputs": [
    {
     "data": {
      "text/plain": [
       "help_drop\n",
       "Alternance - Ingénieur Architecture et Data science H/F - Grenoble échirolles atos    1\n",
       "Développeur Java Big Data Cloud Confirmé(e) annecy sopra steria                       1\n",
       "Product Manager Operation H/F bron dougs                                              1\n",
       "Product Manager Revenu H/F bron dougs                                                 1\n",
       "Stage Data Scientist - Calcul paramétrique (H/F) les herbiers briand                  1\n",
       "Chargé d'études en Datamining / Pilotage d'activité F/H rouen matmut                  1\n",
       "Data Scientist courbevoie iqvia                                                       1\n",
       "ALTERNANT DATA SCIENTIST montigny le bretonneux bmw                                   1\n",
       "Data Miner H/F en alternance Marseille marseille groupe pro direct                    1\n",
       "Data Scientist (500 Max) (IT) / Freelance nantes hanson regan limited                1\n",
       "Name: count, dtype: int64"
      ]
     },
     "execution_count": 95,
     "metadata": {},
     "output_type": "execute_result"
    }
   ],
   "source": [
    "data[\"help_drop\"].value_counts()"
   ]
  },
  {
   "cell_type": "code",
   "execution_count": 96,
   "metadata": {},
   "outputs": [],
   "source": [
    "# remove duplicates if company_roleLocation, company_offeredRole and companyName are the same\n",
    "data = data.drop_duplicates(subset=['help_drop'])"
   ]
  },
  {
   "cell_type": "code",
   "execution_count": 97,
   "metadata": {},
   "outputs": [
    {
     "data": {
      "text/plain": [
       "(10, 25)"
      ]
     },
     "execution_count": 97,
     "metadata": {},
     "output_type": "execute_result"
    }
   ],
   "source": [
    "data.shape"
   ]
  },
  {
   "cell_type": "code",
   "execution_count": 98,
   "metadata": {},
   "outputs": [],
   "source": [
    "data[\"company_type\"] = data[\"size\"].map(mapping_size)"
   ]
  },
  {
   "cell_type": "code",
   "execution_count": 99,
   "metadata": {},
   "outputs": [],
   "source": [
    "data.to_csv(\"datas/FINAL_DATASET.csv\", index=False)"
   ]
  },
  {
   "cell_type": "code",
   "execution_count": 100,
   "metadata": {},
   "outputs": [
    {
     "ename": "NameError",
     "evalue": "name 'get_coordinates' is not defined",
     "output_type": "error",
     "traceback": [
      "\u001b[1;31m---------------------------------------------------------------------------\u001b[0m",
      "\u001b[1;31mNameError\u001b[0m                                 Traceback (most recent call last)",
      "Cell \u001b[1;32mIn[100], line 60\u001b[0m\n\u001b[0;32m     56\u001b[0m df \u001b[39m=\u001b[39m df\u001b[39m.\u001b[39msort_values(by\u001b[39m=\u001b[39m[\u001b[39m'\u001b[39m\u001b[39mweighted_similarity\u001b[39m\u001b[39m'\u001b[39m], ascending\u001b[39m=\u001b[39m\u001b[39mFalse\u001b[39;00m)\u001b[39m.\u001b[39mhead(\u001b[39m60\u001b[39m)\n\u001b[0;32m     59\u001b[0m \u001b[39m# Calcul de la distance entre les villes\u001b[39;00m\n\u001b[1;32m---> 60\u001b[0m df[\u001b[39m'\u001b[39m\u001b[39mdistance_en_km\u001b[39m\u001b[39m'\u001b[39m] \u001b[39m=\u001b[39m df\u001b[39m.\u001b[39;49mapply(\u001b[39mlambda\u001b[39;49;00m row: calculate_distance(row[\u001b[39m\"\u001b[39;49m\u001b[39mCompany_RoleLocation\u001b[39;49m\u001b[39m\"\u001b[39;49m], ville_preferee), axis\u001b[39m=\u001b[39;49m\u001b[39m1\u001b[39;49m)\n\u001b[0;32m     62\u001b[0m max_distance \u001b[39m=\u001b[39m df[\u001b[39m'\u001b[39m\u001b[39mdistance_en_km\u001b[39m\u001b[39m'\u001b[39m]\u001b[39m.\u001b[39mmax()\n\u001b[0;32m     63\u001b[0m min_distance \u001b[39m=\u001b[39m df[\u001b[39m'\u001b[39m\u001b[39mdistance_en_km\u001b[39m\u001b[39m'\u001b[39m]\u001b[39m.\u001b[39mmin()\n",
      "File \u001b[1;32mh:\\Desktop\\glassdoor-scraper\\.conda\\lib\\site-packages\\pandas\\core\\frame.py:9423\u001b[0m, in \u001b[0;36mDataFrame.apply\u001b[1;34m(self, func, axis, raw, result_type, args, **kwargs)\u001b[0m\n\u001b[0;32m   9412\u001b[0m \u001b[39mfrom\u001b[39;00m \u001b[39mpandas\u001b[39;00m\u001b[39m.\u001b[39;00m\u001b[39mcore\u001b[39;00m\u001b[39m.\u001b[39;00m\u001b[39mapply\u001b[39;00m \u001b[39mimport\u001b[39;00m frame_apply\n\u001b[0;32m   9414\u001b[0m op \u001b[39m=\u001b[39m frame_apply(\n\u001b[0;32m   9415\u001b[0m     \u001b[39mself\u001b[39m,\n\u001b[0;32m   9416\u001b[0m     func\u001b[39m=\u001b[39mfunc,\n\u001b[1;32m   (...)\u001b[0m\n\u001b[0;32m   9421\u001b[0m     kwargs\u001b[39m=\u001b[39mkwargs,\n\u001b[0;32m   9422\u001b[0m )\n\u001b[1;32m-> 9423\u001b[0m \u001b[39mreturn\u001b[39;00m op\u001b[39m.\u001b[39;49mapply()\u001b[39m.\u001b[39m__finalize__(\u001b[39mself\u001b[39m, method\u001b[39m=\u001b[39m\u001b[39m\"\u001b[39m\u001b[39mapply\u001b[39m\u001b[39m\"\u001b[39m)\n",
      "File \u001b[1;32mh:\\Desktop\\glassdoor-scraper\\.conda\\lib\\site-packages\\pandas\\core\\apply.py:678\u001b[0m, in \u001b[0;36mFrameApply.apply\u001b[1;34m(self)\u001b[0m\n\u001b[0;32m    675\u001b[0m \u001b[39melif\u001b[39;00m \u001b[39mself\u001b[39m\u001b[39m.\u001b[39mraw:\n\u001b[0;32m    676\u001b[0m     \u001b[39mreturn\u001b[39;00m \u001b[39mself\u001b[39m\u001b[39m.\u001b[39mapply_raw()\n\u001b[1;32m--> 678\u001b[0m \u001b[39mreturn\u001b[39;00m \u001b[39mself\u001b[39;49m\u001b[39m.\u001b[39;49mapply_standard()\n",
      "File \u001b[1;32mh:\\Desktop\\glassdoor-scraper\\.conda\\lib\\site-packages\\pandas\\core\\apply.py:798\u001b[0m, in \u001b[0;36mFrameApply.apply_standard\u001b[1;34m(self)\u001b[0m\n\u001b[0;32m    797\u001b[0m \u001b[39mdef\u001b[39;00m \u001b[39mapply_standard\u001b[39m(\u001b[39mself\u001b[39m):\n\u001b[1;32m--> 798\u001b[0m     results, res_index \u001b[39m=\u001b[39m \u001b[39mself\u001b[39;49m\u001b[39m.\u001b[39;49mapply_series_generator()\n\u001b[0;32m    800\u001b[0m     \u001b[39m# wrap results\u001b[39;00m\n\u001b[0;32m    801\u001b[0m     \u001b[39mreturn\u001b[39;00m \u001b[39mself\u001b[39m\u001b[39m.\u001b[39mwrap_results(results, res_index)\n",
      "File \u001b[1;32mh:\\Desktop\\glassdoor-scraper\\.conda\\lib\\site-packages\\pandas\\core\\apply.py:814\u001b[0m, in \u001b[0;36mFrameApply.apply_series_generator\u001b[1;34m(self)\u001b[0m\n\u001b[0;32m    811\u001b[0m \u001b[39mwith\u001b[39;00m option_context(\u001b[39m\"\u001b[39m\u001b[39mmode.chained_assignment\u001b[39m\u001b[39m\"\u001b[39m, \u001b[39mNone\u001b[39;00m):\n\u001b[0;32m    812\u001b[0m     \u001b[39mfor\u001b[39;00m i, v \u001b[39min\u001b[39;00m \u001b[39menumerate\u001b[39m(series_gen):\n\u001b[0;32m    813\u001b[0m         \u001b[39m# ignore SettingWithCopy here in case the user mutates\u001b[39;00m\n\u001b[1;32m--> 814\u001b[0m         results[i] \u001b[39m=\u001b[39m \u001b[39mself\u001b[39;49m\u001b[39m.\u001b[39;49mf(v)\n\u001b[0;32m    815\u001b[0m         \u001b[39mif\u001b[39;00m \u001b[39misinstance\u001b[39m(results[i], ABCSeries):\n\u001b[0;32m    816\u001b[0m             \u001b[39m# If we have a view on v, we need to make a copy because\u001b[39;00m\n\u001b[0;32m    817\u001b[0m             \u001b[39m#  series_generator will swap out the underlying data\u001b[39;00m\n\u001b[0;32m    818\u001b[0m             results[i] \u001b[39m=\u001b[39m results[i]\u001b[39m.\u001b[39mcopy(deep\u001b[39m=\u001b[39m\u001b[39mFalse\u001b[39;00m)\n",
      "Cell \u001b[1;32mIn[100], line 60\u001b[0m, in \u001b[0;36m<lambda>\u001b[1;34m(row)\u001b[0m\n\u001b[0;32m     56\u001b[0m df \u001b[39m=\u001b[39m df\u001b[39m.\u001b[39msort_values(by\u001b[39m=\u001b[39m[\u001b[39m'\u001b[39m\u001b[39mweighted_similarity\u001b[39m\u001b[39m'\u001b[39m], ascending\u001b[39m=\u001b[39m\u001b[39mFalse\u001b[39;00m)\u001b[39m.\u001b[39mhead(\u001b[39m60\u001b[39m)\n\u001b[0;32m     59\u001b[0m \u001b[39m# Calcul de la distance entre les villes\u001b[39;00m\n\u001b[1;32m---> 60\u001b[0m df[\u001b[39m'\u001b[39m\u001b[39mdistance_en_km\u001b[39m\u001b[39m'\u001b[39m] \u001b[39m=\u001b[39m df\u001b[39m.\u001b[39mapply(\u001b[39mlambda\u001b[39;00m row: calculate_distance(row[\u001b[39m\"\u001b[39;49m\u001b[39mCompany_RoleLocation\u001b[39;49m\u001b[39m\"\u001b[39;49m], ville_preferee), axis\u001b[39m=\u001b[39m\u001b[39m1\u001b[39m)\n\u001b[0;32m     62\u001b[0m max_distance \u001b[39m=\u001b[39m df[\u001b[39m'\u001b[39m\u001b[39mdistance_en_km\u001b[39m\u001b[39m'\u001b[39m]\u001b[39m.\u001b[39mmax()\n\u001b[0;32m     63\u001b[0m min_distance \u001b[39m=\u001b[39m df[\u001b[39m'\u001b[39m\u001b[39mdistance_en_km\u001b[39m\u001b[39m'\u001b[39m]\u001b[39m.\u001b[39mmin()\n",
      "Cell \u001b[1;32mIn[83], line 4\u001b[0m, in \u001b[0;36mcalculate_distance\u001b[1;34m(city1, city2)\u001b[0m\n\u001b[0;32m      3\u001b[0m \u001b[39mdef\u001b[39;00m \u001b[39mcalculate_distance\u001b[39m(city1, city2):\n\u001b[1;32m----> 4\u001b[0m     coordinates1 \u001b[39m=\u001b[39m get_coordinates(city1)\n\u001b[0;32m      5\u001b[0m     coordinates2 \u001b[39m=\u001b[39m get_coordinates(city2)\n\u001b[0;32m      7\u001b[0m     \u001b[39mif\u001b[39;00m coordinates1 \u001b[39mis\u001b[39;00m \u001b[39mNone\u001b[39;00m \u001b[39mor\u001b[39;00m coordinates2 \u001b[39mis\u001b[39;00m \u001b[39mNone\u001b[39;00m:\n",
      "\u001b[1;31mNameError\u001b[0m: name 'get_coordinates' is not defined"
     ]
    }
   ],
   "source": [
    "import ssl\n",
    "ssl._create_default_https_context = ssl._create_unverified_context\n",
    "import pandas as pd\n",
    "from sklearn.metrics.pairwise import cosine_similarity\n",
    "from sklearn.feature_extraction.text import TfidfVectorizer\n",
    "from geopy.distance import geodesic\n",
    "import ast\n",
    "\n",
    "\n",
    "# Fonction pour filtrer les lignes\n",
    "def filter_skills(row):\n",
    "    skills = ast.literal_eval(row['skills'])\n",
    "    for skill in skills:\n",
    "        if skill in target_skills:\n",
    "            return True\n",
    "    return False\n",
    "\n",
    "\n",
    "df = data.copy()\n",
    "\n",
    "# Liste des skills cibles\n",
    "target_skills = ['software']\n",
    "\n",
    "# Appliquer le filtre sur le DataFrame\n",
    "# df = df[df.apply(filter_skills, axis=1)]\n",
    "\n",
    "# Préférences de l'utilisateur\n",
    "job_type = 'Data Scientist'\n",
    "ville_preferee = 'Cergy'\n",
    "enterprise_type = 'Startup'\n",
    "\n",
    "vectorizer = TfidfVectorizer()\n",
    "similarity_scores = []\n",
    "\n",
    "for index, row in df.iterrows():\n",
    "    job_desc = row['company_offeredRole'] + ' ' + row['company_type']\n",
    "    user_preferences = job_type + ' ' + enterprise_type\n",
    "    X = vectorizer.fit_transform([job_desc, user_preferences])\n",
    "    similarity_score = cosine_similarity(X[0], X[1])[0][0]\n",
    "    similarity_scores.append(similarity_score)\n",
    "\n",
    "df['similarity_score'] = similarity_scores\n",
    "\n",
    "\n",
    "# Attribution des poids aux similarités et à la distance\n",
    "similarity_weight = 0.5\n",
    "distance_weight = 0.5\n",
    "\n",
    "# Création d'une nouvelle colonne pour stocker les scores de similarité\n",
    "# df['similarity_score'] = similarity_scores.flatten()\n",
    "\n",
    "# Calcul de la similarité pondérée\n",
    "df['weighted_similarity'] = df['similarity_score'] * similarity_weight\n",
    "\n",
    "# trier selon la similarité et garder les 60 meilleurs résultats\n",
    "df = df.sort_values(by=['weighted_similarity'], ascending=False).head(60)\n",
    "\n",
    "\n",
    "# Calcul de la distance entre les villes\n",
    "df['distance_en_km'] = df.apply(lambda row: calculate_distance(row[\"Company_RoleLocation\"], ville_preferee), axis=1)\n",
    "\n",
    "max_distance = df['distance_en_km'].max()\n",
    "min_distance = df['distance_en_km'].min()\n",
    "\n",
    "df['normalized_distance'] = (df['distance_en_km'] - min_distance) / (max_distance - min_distance)\n",
    "\n",
    "\n",
    "df['weighted_distance'] = df['normalized_distance'] * distance_weight\n",
    "df['weighted_similarity_distance'] = round(df['weighted_similarity'] - df['weighted_distance'],2)\n",
    "\n",
    "# Tri des offres d'emploi par similarité pondérée et distance croissantes\n",
    "sorted_df = df.sort_values(by=['weighted_similarity_distance'], ascending=[False])\n",
    "\n",
    "# Affichage des résultats\n",
    "top_results = sorted_df.head(5)  # Vous pouvez ajuster le nombre de résultats à afficher\n",
    "top_results[['company_offeredRole', 'Company_Name',\"size\",\"company_type\",\"Company_RoleLocation\", 'distance_en_km','similarity_score','weighted_distance', 'weighted_similarity_distance',\"skills\"]].head()\n"
   ]
  },
  {
   "cell_type": "code",
   "execution_count": null,
   "metadata": {},
   "outputs": [
    {
     "ename": "AttributeError",
     "evalue": "'Series' object has no attribute 'append'",
     "output_type": "error",
     "traceback": [
      "\u001b[1;31m---------------------------------------------------------------------------\u001b[0m",
      "\u001b[1;31mAttributeError\u001b[0m                            Traceback (most recent call last)",
      "\u001b[1;32m~\\AppData\\Local\\Temp\\ipykernel_13880\\10550173.py\u001b[0m in \u001b[0;36m?\u001b[1;34m()\u001b[0m\n\u001b[0;32m     28\u001b[0m \u001b[1;31m# Calcul de la similarité cosinus\u001b[0m\u001b[1;33m\u001b[0m\u001b[1;33m\u001b[0m\u001b[0m\n\u001b[0;32m     29\u001b[0m \u001b[0mvectorizer\u001b[0m \u001b[1;33m=\u001b[0m \u001b[0mTfidfVectorizer\u001b[0m\u001b[1;33m(\u001b[0m\u001b[1;33m)\u001b[0m\u001b[1;33m\u001b[0m\u001b[1;33m\u001b[0m\u001b[0m\n\u001b[0;32m     30\u001b[0m \u001b[0mjob_desc\u001b[0m \u001b[1;33m=\u001b[0m \u001b[0mdf\u001b[0m\u001b[1;33m[\u001b[0m\u001b[1;34m'intitule_poste'\u001b[0m\u001b[1;33m]\u001b[0m \u001b[1;33m+\u001b[0m \u001b[1;34m' '\u001b[0m \u001b[1;33m+\u001b[0m \u001b[0mdf\u001b[0m\u001b[1;33m[\u001b[0m\u001b[1;34m'type_entreprise'\u001b[0m\u001b[1;33m]\u001b[0m \u001b[1;33m+\u001b[0m \u001b[1;34m' '\u001b[0m \u001b[1;33m+\u001b[0m \u001b[0mdf\u001b[0m\u001b[1;33m[\u001b[0m\u001b[1;34m'type_poste'\u001b[0m\u001b[1;33m]\u001b[0m\u001b[1;33m\u001b[0m\u001b[1;33m\u001b[0m\u001b[0m\n\u001b[0;32m     31\u001b[0m \u001b[0muser_preferences\u001b[0m \u001b[1;33m=\u001b[0m \u001b[0mville_preferee\u001b[0m \u001b[1;33m+\u001b[0m \u001b[1;34m' '\u001b[0m \u001b[1;33m+\u001b[0m \u001b[0mtype_entreprise_prefere\u001b[0m \u001b[1;33m+\u001b[0m \u001b[1;34m' '\u001b[0m \u001b[1;33m+\u001b[0m \u001b[0mtype_poste_desire\u001b[0m\u001b[1;33m\u001b[0m\u001b[1;33m\u001b[0m\u001b[0m\n\u001b[1;32m---> 32\u001b[1;33m \u001b[0mX\u001b[0m \u001b[1;33m=\u001b[0m \u001b[0mvectorizer\u001b[0m\u001b[1;33m.\u001b[0m\u001b[0mfit_transform\u001b[0m\u001b[1;33m(\u001b[0m\u001b[0mjob_desc\u001b[0m\u001b[1;33m.\u001b[0m\u001b[0mappend\u001b[0m\u001b[1;33m(\u001b[0m\u001b[0mpd\u001b[0m\u001b[1;33m.\u001b[0m\u001b[0mSeries\u001b[0m\u001b[1;33m(\u001b[0m\u001b[0muser_preferences\u001b[0m\u001b[1;33m)\u001b[0m\u001b[1;33m)\u001b[0m\u001b[1;33m)\u001b[0m\u001b[1;33m\u001b[0m\u001b[1;33m\u001b[0m\u001b[0m\n\u001b[0m\u001b[0;32m     33\u001b[0m \u001b[0msimilarity_scores\u001b[0m \u001b[1;33m=\u001b[0m \u001b[0mcosine_similarity\u001b[0m\u001b[1;33m(\u001b[0m\u001b[0mX\u001b[0m\u001b[1;33m[\u001b[0m\u001b[1;33m:\u001b[0m\u001b[1;33m-\u001b[0m\u001b[1;36m1\u001b[0m\u001b[1;33m]\u001b[0m\u001b[1;33m,\u001b[0m \u001b[0mX\u001b[0m\u001b[1;33m[\u001b[0m\u001b[1;33m-\u001b[0m\u001b[1;36m1\u001b[0m\u001b[1;33m]\u001b[0m\u001b[1;33m)\u001b[0m\u001b[1;33m\u001b[0m\u001b[1;33m\u001b[0m\u001b[0m\n\u001b[0;32m     34\u001b[0m \u001b[1;33m\u001b[0m\u001b[0m\n\u001b[0;32m     35\u001b[0m \u001b[1;31m# Normalisation de la distance\u001b[0m\u001b[1;33m\u001b[0m\u001b[1;33m\u001b[0m\u001b[0m\n",
      "\u001b[1;32mh:\\Desktop\\glassdoor-scraper\\.conda\\lib\\site-packages\\pandas\\core\\generic.py\u001b[0m in \u001b[0;36m?\u001b[1;34m(self, name)\u001b[0m\n\u001b[0;32m   5985\u001b[0m             \u001b[1;32mand\u001b[0m \u001b[0mname\u001b[0m \u001b[1;32mnot\u001b[0m \u001b[1;32min\u001b[0m \u001b[0mself\u001b[0m\u001b[1;33m.\u001b[0m\u001b[0m_accessors\u001b[0m\u001b[1;33m\u001b[0m\u001b[1;33m\u001b[0m\u001b[0m\n\u001b[0;32m   5986\u001b[0m             \u001b[1;32mand\u001b[0m \u001b[0mself\u001b[0m\u001b[1;33m.\u001b[0m\u001b[0m_info_axis\u001b[0m\u001b[1;33m.\u001b[0m\u001b[0m_can_hold_identifiers_and_holds_name\u001b[0m\u001b[1;33m(\u001b[0m\u001b[0mname\u001b[0m\u001b[1;33m)\u001b[0m\u001b[1;33m\u001b[0m\u001b[1;33m\u001b[0m\u001b[0m\n\u001b[0;32m   5987\u001b[0m         ):\n\u001b[0;32m   5988\u001b[0m             \u001b[1;32mreturn\u001b[0m \u001b[0mself\u001b[0m\u001b[1;33m[\u001b[0m\u001b[0mname\u001b[0m\u001b[1;33m]\u001b[0m\u001b[1;33m\u001b[0m\u001b[1;33m\u001b[0m\u001b[0m\n\u001b[1;32m-> 5989\u001b[1;33m         \u001b[1;32mreturn\u001b[0m \u001b[0mobject\u001b[0m\u001b[1;33m.\u001b[0m\u001b[0m__getattribute__\u001b[0m\u001b[1;33m(\u001b[0m\u001b[0mself\u001b[0m\u001b[1;33m,\u001b[0m \u001b[0mname\u001b[0m\u001b[1;33m)\u001b[0m\u001b[1;33m\u001b[0m\u001b[1;33m\u001b[0m\u001b[0m\n\u001b[0m",
      "\u001b[1;31mAttributeError\u001b[0m: 'Series' object has no attribute 'append'"
     ]
    }
   ],
   "source": [
    "import pandas as pd\n",
    "from sklearn.metrics.pairwise import cosine_similarity\n",
    "from sklearn.feature_extraction.text import TfidfVectorizer\n",
    "from geopy.distance import geodesic\n",
    "\n",
    "# Exemple de dataframe simplifié\n",
    "df = pd.DataFrame({\n",
    "    'intitule_poste': ['Développeur web', 'Data analyst', 'Ingénieur logiciel'],\n",
    "    'ville_du_poste': ['Paris', 'Lyon', 'Marseille'],\n",
    "    'type_entreprise': ['Start-up', 'Grande entreprise', 'Start-up'],\n",
    "    'nom_entreprise': ['XYZ Company', 'ABC Corporation', 'XYZ Company'],\n",
    "    'latitude': [48.8566, 45.75, 43.2965],\n",
    "    'longitude': [2.3522, 4.85, 5.3698],\n",
    "    'type_poste': ['CDI', 'CDD', 'CDI']\n",
    "})\n",
    "\n",
    "# Préférences de l'utilisateur\n",
    "ville_preferee = 'Paris'\n",
    "type_entreprise_prefere = 'Start-up'\n",
    "type_poste_desire = 'CDI'\n",
    "\n",
    "# Coordonnées géographiques de la ville choisie par l'utilisateur\n",
    "user_location = (48.8566, 2.3522)  # Paris (latitude, longitude)\n",
    "\n",
    "# Calcul de la distance entre les villes\n",
    "df['distance_en_km'] = df.apply(lambda row: geodesic(user_location, (row['latitude'], row['longitude'])).km, axis=1)\n",
    "\n",
    "# Calcul de la similarité cosinus\n",
    "vectorizer = TfidfVectorizer()\n",
    "job_desc = df['intitule_poste'] + ' ' + df['type_entreprise'] + ' ' + df['type_poste']\n",
    "user_preferences = ville_preferee + ' ' + type_entreprise_prefere + ' ' + type_poste_desire\n",
    "X = vectorizer.fit_transform(job_desc.append(pd.Series(user_preferences)))\n",
    "similarity_scores = cosine_similarity(X[:-1], X[-1])\n",
    "\n",
    "# Normalisation de la distance\n",
    "max_distance = df['distance_en_km'].max()\n",
    "df['normalized_distance'] = 1 - (df['distance_en_km'] / max_distance)\n",
    "\n",
    "# Attribution des poids aux similarités et à la distance\n",
    "similarity_weight = 0.8\n",
    "distance_weight = 0.2\n",
    "\n",
    "# Création d'une nouvelle colonne pour stocker les scores de similarité\n",
    "df['similarity_score'] = similarity_scores.flatten()\n",
    "\n",
    "# Calcul de la similarité pondérée\n",
    "df['weighted_similarity'] = df['similarity_score'] * similarity_weight\n",
    "df['weighted_distance'] = df['normalized_distance'] * distance_weight\n",
    "df['weighted_similarity_distance'] = df['weighted_similarity'] + df['weighted_distance']\n",
    "\n",
    "# Tri des offres d'emploi par similarité pondérée et distance croissantes\n",
    "sorted_df = df.sort_values(by=['weighted_similarity_distance', 'distance_en_km'], ascending=[False, True])\n",
    "\n",
    "# Affichage des résultats\n",
    "top_results = sorted_df.head(5)  # Vous pouvez ajuster le nombre de résultats à afficher\n",
    "top_results[['intitule_poste', 'nom_entreprise', 'distance_en_km', 'weighted_similarity_distance']].head()\n"
   ]
  },
  {
   "cell_type": "code",
   "execution_count": null,
   "metadata": {},
   "outputs": [],
   "source": [
    "import pandas as pd\n",
    "\n",
    "df = pd.read_csv('output/output_16-06-2023.csv', encoding_errors='ignore')"
   ]
  },
  {
   "cell_type": "code",
   "execution_count": null,
   "metadata": {},
   "outputs": [],
   "source": [
    "# remove duplicates\n",
    "df = df.drop_duplicates(subset=['companyName','company_offeredRole','company_roleLocation'])"
   ]
  },
  {
   "cell_type": "code",
   "execution_count": null,
   "metadata": {},
   "outputs": [
    {
     "data": {
      "text/plain": [
       "(51, 10)"
      ]
     },
     "execution_count": 10,
     "metadata": {},
     "output_type": "execute_result"
    }
   ],
   "source": [
    "df.shape"
   ]
  }
 ],
 "metadata": {
  "kernelspec": {
   "display_name": "Python 3",
   "language": "python",
   "name": "python3"
  },
  "language_info": {
   "codemirror_mode": {
    "name": "ipython",
    "version": 3
   },
   "file_extension": ".py",
   "mimetype": "text/x-python",
   "name": "python",
   "nbconvert_exporter": "python",
   "pygments_lexer": "ipython3",
   "version": "3.10.11"
  },
  "orig_nbformat": 4
 },
 "nbformat": 4,
 "nbformat_minor": 2
}
