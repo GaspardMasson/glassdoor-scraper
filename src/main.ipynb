{
 "cells": [
  {
   "cell_type": "code",
   "execution_count": 3,
   "metadata": {},
   "outputs": [],
   "source": [
    "from selenium import webdriver\n",
    "from selenium.webdriver.common.by import By\n",
    "from selenium.webdriver.support.ui import WebDriverWait\n",
    "from selenium.webdriver.support import expected_conditions as EC\n",
    "from bs4 import BeautifulSoup\n"
   ]
  },
  {
   "cell_type": "code",
   "execution_count": 4,
   "metadata": {},
   "outputs": [
    {
     "name": "stderr",
     "output_type": "stream",
     "text": [
      "C:\\Users\\gaspa\\AppData\\Local\\Temp\\ipykernel_21832\\550327876.py:1: DeprecationWarning: executable_path has been deprecated, please pass in a Service object\n",
      "  driver = webdriver.Chrome('C:\\\\Users\\\\gaspa\\\\Downloads\\\\chromedriver_win32\\\\chromedriver.exe')\n"
     ]
    }
   ],
   "source": [
    "driver = webdriver.Chrome('C:\\\\Users\\\\gaspa\\\\Downloads\\\\chromedriver_win32\\\\chromedriver.exe')"
   ]
  },
  {
   "cell_type": "code",
   "execution_count": 6,
   "metadata": {},
   "outputs": [],
   "source": [
    "url = \"https://www.glassdoor.com/partner/jobListing.htm?pos=106&ao=1110586&s=58&guid=000001886b6519cb94a7e01e0170f41b&src=GD_JOB_AD&t=SR&vt=w&ea=1&cs=1_16dcea97&cb=1685428968123&jobListingId=1008586386562&cpc=61B26E8FEFFA679F&jrtk=3-0-1h1lma6f5k6dr801-1h1lma6fi2ap5002-bc5b52a3514addcf--6NYlbfkN0DkmFPTNE6xF82N3uY7eVFTS2YTIIq-Yz7q3xS6FNsYFjTLZAxmE1YH9K8xcHKLUUtFdrQZN7FwelqLL3Z62myQ2R_ZFNtm550E7ErqfUAtU15R1Jri-hNzvVam4riDMDd1T6hykEBgLT41SJLxyKdE5vMLuyC5CG6EtZjb4ufThJIwRJQO7w5puXvb3yc9AREezNWMxv7wR4X4Cvup-UXMDbzHOBdkp_T1A2SWAwNN44UkDdRxf2cPIRRM_zoBcD1KfqYV6NDKOwLcyZQ5d2xnN5bxyKWc8LnCokRaU2fptugEe4Kozkyhg4zcOx2wreA89lsVlE2ryS9QVfW6shKleQyYD7lbh_xJbX4OhH9371FaC7gPlZfNSQyeShQtv_qyP7DuwiXVnUnAM9qOI9EsJu7TgG0efyi10sen0nK_4XE35ofZgoxG7ecGht9WRfswtyl3NtnyGtDJWO0vN_6MTganZ7uU6fmYfZmbTzdKLV9tx8y6K6Fc6_D4xlfWpu9c1EXhMryiq9QfHsA5Cghe1dTqYvh9iQyu5Mw9FE3hJNOgERQ1dOXMGi9eeMZ9s8fSEyubqkJHDhJFqyVtKj_Rdng2C9JaAMzKeyunCiyDlQNDcKdeGH6J2KQDznbD1ZUtc36G-Lp00Q%3D%3D\"\n",
    "driver.get(url)"
   ]
  },
  {
   "cell_type": "code",
   "execution_count": 10,
   "metadata": {},
   "outputs": [],
   "source": [
    "span_locator = (By.CSS_SELECTOR, 'span.link.py-xsm.px-std')\n",
    "text_to_find = 'Company'\n",
    "\n",
    "span_element = WebDriverWait(driver, 10).until(\n",
    "    EC.presence_of_element_located(span_locator)\n",
    ")\n",
    "\n",
    "if text_to_find in span_element.text:\n",
    "    span_element.click()\n",
    "else:\n",
    "    print(\"Le texte spécifié n'est pas présent dans le span.\")"
   ]
  },
  {
   "cell_type": "code",
   "execution_count": 11,
   "metadata": {},
   "outputs": [],
   "source": [
    "html_content = driver.page_source"
   ]
  },
  {
   "cell_type": "code",
   "execution_count": 12,
   "metadata": {},
   "outputs": [],
   "source": [
    "soup = BeautifulSoup(html_content, \"html.parser\")"
   ]
  },
  {
   "cell_type": "code",
   "execution_count": 15,
   "metadata": {},
   "outputs": [
    {
     "name": "stdout",
     "output_type": "stream",
     "text": [
      "Headquarters: Levallois-Perret, France\n",
      "Size: 201 to 500 Employees\n",
      "Type: Company - Private\n",
      "Revenue: Unknown / Non-Applicable\n"
     ]
    }
   ],
   "source": [
    "soup = BeautifulSoup(html_content, \"html.parser\")\n",
    "\n",
    "entreprise_div = soup.find('div', id='InfoFields')\n",
    "\n",
    "# Récupérez les différentes informations à l'intérieur du div\n",
    "headquarters_element = entreprise_div.find('span', id='headquarters')\n",
    "headquarters = headquarters_element.text.strip() if headquarters_element else \"\"\n",
    "\n",
    "size_element = entreprise_div.find('span', id='size')\n",
    "size = size_element.text.strip() if size_element else \"\"\n",
    "\n",
    "type_element = entreprise_div.find('span', id='type')\n",
    "type = type_element.text.strip() if type_element else \"\"\n",
    "\n",
    "revenue_element = entreprise_div.find('span', id='revenue')\n",
    "revenue = revenue_element.text.strip() if revenue_element else \"\"\n",
    "\n",
    "# Affichez les informations sur l'entreprise\n",
    "print(\"Headquarters:\", headquarters)\n",
    "print(\"Size:\", size)\n",
    "print(\"Type:\", type)\n",
    "print(\"Revenue:\", revenue)\n"
   ]
  }
 ],
 "metadata": {
  "kernelspec": {
   "display_name": "Python 3",
   "language": "python",
   "name": "python3"
  },
  "language_info": {
   "codemirror_mode": {
    "name": "ipython",
    "version": 3
   },
   "file_extension": ".py",
   "mimetype": "text/x-python",
   "name": "python",
   "nbconvert_exporter": "python",
   "pygments_lexer": "ipython3",
   "version": "3.10.7"
  },
  "orig_nbformat": 4
 },
 "nbformat": 4,
 "nbformat_minor": 2
}
